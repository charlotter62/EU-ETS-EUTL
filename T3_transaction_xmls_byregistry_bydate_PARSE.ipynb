{
  "nbformat": 4,
  "nbformat_minor": 0,
  "metadata": {
    "colab": {
      "provenance": [],
      "collapsed_sections": [
        "9XEkh2HfWb2u"
      ],
      "authorship_tag": "ABX9TyMz2fW5dciheAv5Ikyppu9L",
      "include_colab_link": true
    },
    "kernelspec": {
      "name": "python3",
      "display_name": "Python 3"
    },
    "language_info": {
      "name": "python"
    }
  },
  "cells": [
    {
      "cell_type": "markdown",
      "metadata": {
        "id": "view-in-github",
        "colab_type": "text"
      },
      "source": [
        "<a href=\"https://colab.research.google.com/github/charlotter62/EU-ETS-EUTL/blob/main/T3_transaction_xmls_byregistry_bydate_PARSE.ipynb\" target=\"_parent\"><img src=\"https://colab.research.google.com/assets/colab-badge.svg\" alt=\"Open In Colab\"/></a>"
      ]
    },
    {
      "cell_type": "markdown",
      "source": [
        "# Parse transaction XML files\n",
        "\n",
        "\n",
        "---\n",
        "\n",
        "\n",
        "**Description**:\n",
        "\n",
        "The following code parses XML files containing transaction information, downloaded from the [European Union Transaction Log](https://ec.europa.eu/clima/ets/transaction.do). The files are downloaded and organized by registry and type of file with the [xml-byregistry-bydate.ipynb](https://colab.research.google.com/drive/1lmHfv5nGsRHqT0ce6R0OiZDq_JBmTrOe?usp=sharing) script.\n",
        "* The DetailsAll.xml files are downloaded with the \"DetailsAll\" button at the bottom of the search results.\n",
        "* The TransactionsBasic.xml files are downloaded with the \"Export\" button.\n",
        "\n",
        "**Author**: Charlotte Rivard\n",
        "**Contact**: 15crivard@gmail.com\n",
        "**Date**: 1/13/2022\n",
        "\n",
        "*Please reach out with questions and coauthorship considerations if using this script for publications*\n",
        "\n",
        "---\n",
        "\n"
      ],
      "metadata": {
        "id": "V0TOAEElMaNB"
      }
    },
    {
      "cell_type": "code",
      "source": [
        "from google.colab import drive\n",
        "drive.mount('/gdrive')"
      ],
      "metadata": {
        "colab": {
          "base_uri": "https://localhost:8080/"
        },
        "id": "Z9CoIzJqj3I4",
        "outputId": "d6e06e9b-c0fc-41eb-e6da-b40559fe4a4a"
      },
      "execution_count": null,
      "outputs": [
        {
          "output_type": "stream",
          "name": "stdout",
          "text": [
            "Mounted at /gdrive\n"
          ]
        }
      ]
    },
    {
      "cell_type": "code",
      "source": [
        "!pip install lxml\n",
        "from lxml import objectify\n",
        "import pandas as pd\n",
        "import numpy as np\n",
        "import os"
      ],
      "metadata": {
        "id": "H-swe0RpW0Zf",
        "colab": {
          "base_uri": "https://localhost:8080/"
        },
        "outputId": "5ca54d84-abf0-47c6-8051-027443cc6251"
      },
      "execution_count": null,
      "outputs": [
        {
          "output_type": "stream",
          "name": "stdout",
          "text": [
            "Requirement already satisfied: lxml in /usr/local/lib/python3.7/dist-packages (4.2.6)\n"
          ]
        }
      ]
    },
    {
      "cell_type": "code",
      "source": [
        "def parseDetailsAllXML(folder):\n",
        "  all_transactions = pd.DataFrame();\n",
        "  all_blocks = pd.DataFrame();\n",
        "\n",
        "  if(os.path.exists(workingdir + folder +\"/\"+ folder.replace(\"/\",\"_\")+\"_transactions.csv\")):\n",
        "    print(\"Details File already exists! \" + folder.replace(\"/\",\"_\")+\"_transactions.csv\")\n",
        "  else:\n",
        "    print(\"Parsing... \"+ folder.replace(\"/\",\"_\")+\"_transactions.csv\")\n",
        "    files = [_ for _ in os.listdir(workingdir+folder) if _.endswith(\"DetailsAll.xml\")] #os.listdir(path);\n",
        "\n",
        "    for file in files:\n",
        "      file = workingdir + folder + \"/\" + file\n",
        "      xml_data = objectify.parse(file)  # Parse XML data\n",
        "      transaction_tags = xml_data.findall(\"TransactionDetailsAll/Transaction\")\n",
        "\n",
        "      transactionsdf = pd.DataFrame();\n",
        "      blocks = pd.DataFrame();\n",
        "      blocknames = [];\n",
        "\n",
        "      for tag in transaction_tags:\n",
        "        row = tag.getchildren()\n",
        "        aqflag = 0;\n",
        "        transactionID = \"\";\n",
        "        transactions = [];\n",
        "        column_names = [];\n",
        "\n",
        "        for item in row:\n",
        "          if(len(item.getchildren())> 0): #If the list item has children, it is a transaction block\n",
        "            blocknames = [\"filename\",\"transactionID\"]+[b.tag for b in item.getchildren()]\n",
        "            blockrow = [file,transactionID]+[b.text for b in item.getchildren()]\n",
        "            blockrow = pd.DataFrame([blockrow],columns=blocknames)\n",
        "            blocks = pd.concat([blocks,blockrow]).reset_index(drop=True) #blocks.append([blockrow])\n",
        "          else:\n",
        "            #colum_names.append(item.tag)\n",
        "            if(item.tag==\"AcquiringRegistry\"):\n",
        "                transactions.append(item.text)\n",
        "                if(aqflag==0):\n",
        "                  column_names.append(item.tag)\n",
        "                  aqflag=1\n",
        "                else:\n",
        "                  column_names.append(\"AcquiringRegistryCode\")\n",
        "            else:\n",
        "                if(item.tag not in column_names):\n",
        "                  transactions.append(item.text)\n",
        "                  column_names.append(item.tag)\n",
        "                  if(item.tag==\"TransactionID\"):\n",
        "                    transactionID = item.text;\n",
        "        transactions = pd.DataFrame([transactions], columns=column_names)\n",
        "        transactionsdf = pd.concat([transactionsdf,transactions]).reset_index(drop=True)\n",
        "\n",
        "      #Save compiled datasets to csv\n",
        "      all_transactions = pd.concat([all_transactions,transactionsdf]).reset_index(drop=True)\n",
        "      savefile = workingdir + folder +\"/\"+ folder.replace(\"/\",\"_\")+\"_transactions.csv\"\n",
        "      all_transactions.to_csv(savefile, index=False)\n",
        "\n",
        "      all_blocks = pd.concat([all_blocks,blocks]).reset_index(drop=True)\n",
        "      savefile = workingdir + folder +\"/\"+ folder.replace(\"/\",\"_\")+\"_blocks.csv\"\n",
        "      all_blocks.to_csv(savefile, index=False)\n",
        "\n",
        "  return([all_transactions, all_blocks])"
      ],
      "metadata": {
        "id": "vEsSx5X9MJo3"
      },
      "execution_count": null,
      "outputs": []
    },
    {
      "cell_type": "code",
      "source": [
        "# workingdir = \"/gdrive/MyDrive/Brookings/XML_downloads/xml-byregistry-bydate/\"\n",
        "# parseDetailsAllXML(\"BE/DetailsAll\")"
      ],
      "metadata": {
        "id": "vt8RK0qibhj9"
      },
      "execution_count": null,
      "outputs": []
    },
    {
      "cell_type": "code",
      "source": [
        "def parseTransactionsXML(folder):\n",
        "  savefile = workingdir + folder +\"/\"+ folder.replace(\"/\",\"_\")+\"_transactions.csv\"\n",
        "  if(os.path.exists(savefile)):\n",
        "    print(\"Basics File already exists! \"+savefile)\n",
        "    all_transactions = None\n",
        "  else:\n",
        "    print(\"Parsing... \"+savefile)\n",
        "    files = [_ for _ in os.listdir(workingdir+folder) if _.endswith(\"TransactionsBasic.xml\")] #os.listdir(path);\n",
        "    all_transactions = pd.DataFrame();\n",
        "\n",
        "    for file in files:\n",
        "      file = workingdir + folder + \"/\" + file\n",
        "      xml_data = objectify.parse(file)  # Parse XML data\n",
        "      transaction_tags = xml_data.findall(\"TransactionSearch/Transaction\")\n",
        "\n",
        "      transactionsdf = pd.DataFrame();\n",
        "\n",
        "      for tag in transaction_tags:\n",
        "        row = tag.getchildren()\n",
        "        aqflag = 0;\n",
        "        transactionID = \"\";\n",
        "        transactions = [];\n",
        "        column_names = [];\n",
        "\n",
        "        for item in row:\n",
        "          if(item.tag==\"AcquiringRegistry\"):\n",
        "              transactions.append(item.text)\n",
        "              if(aqflag==0):\n",
        "                column_names.append(item.tag)\n",
        "                aqflag=1\n",
        "              else:\n",
        "                column_names.append(\"AcquiringRegistryCode\")\n",
        "          else:\n",
        "              if(item.tag not in column_names):\n",
        "                transactions.append(item.text)\n",
        "                column_names.append(item.tag)\n",
        "                if(item.tag==\"TransactionID\"):\n",
        "                  transactionID = item.text;\n",
        "        transactions = pd.DataFrame([transactions], columns=column_names)\n",
        "        transactionsdf = pd.concat([transactionsdf,transactions]).reset_index(drop=True)\n",
        "\n",
        "      #Save compiled datasets to csv, saves the cumulative table each time a file is read in case the program fails. This could be adjusted if it slows the process too much.\n",
        "      all_transactions = pd.concat([all_transactions,transactionsdf]).reset_index(drop=True)\n",
        "      all_transactions.to_csv(savefile, index=False)\n",
        "\n",
        "  return(all_transactions)"
      ],
      "metadata": {
        "id": "40XLdvhzczbG"
      },
      "execution_count": null,
      "outputs": []
    },
    {
      "cell_type": "code",
      "source": [
        "parseTransactionsXML(\"BE/DetailsAll\")"
      ],
      "metadata": {
        "id": "zXLHurH5b3q3"
      },
      "execution_count": null,
      "outputs": []
    },
    {
      "cell_type": "markdown",
      "source": [
        "In loop"
      ],
      "metadata": {
        "id": "KmjnH5xYfYw8"
      }
    },
    {
      "cell_type": "code",
      "source": [
        "import glob"
      ],
      "metadata": {
        "id": "eWAbUk84hdWm"
      },
      "execution_count": null,
      "outputs": []
    },
    {
      "cell_type": "code",
      "source": [
        "workingdir = \"/gdrive/MyDrive/Brookings/XML_downloads/xml-byregistry-bydate/\"\n",
        "regfolders = glob.glob(workingdir+\"*/\")\n",
        "regfolders"
      ],
      "metadata": {
        "id": "AxltMP6D1xPC"
      },
      "execution_count": null,
      "outputs": []
    },
    {
      "cell_type": "code",
      "source": [
        "# regfolders = [regfolders[3]]\n",
        "# regfolders"
      ],
      "metadata": {
        "colab": {
          "base_uri": "https://localhost:8080/"
        },
        "id": "1-_UakfNEsQX",
        "outputId": "232bad45-7c2f-4295-9e70-cd199ddce6bd"
      },
      "execution_count": null,
      "outputs": [
        {
          "output_type": "execute_result",
          "data": {
            "text/plain": [
              "['/gdrive/MyDrive/Brookings/XML_downloads/xml-byregistry-bydate/DK/']"
            ]
          },
          "metadata": {},
          "execution_count": 14
        }
      ]
    },
    {
      "cell_type": "code",
      "source": [
        "#for regfolder in regfolders[0:(len(regfolders)-1)]:\n",
        "for regfolder in regfolders:\n",
        "\n",
        "  regfolder = regfolder.replace(workingdir,\"\")\n",
        "\n",
        "  #Transactions Basic\n",
        "  regfolderTB = regfolder + \"TransactionsBasic\"\n",
        "  # parsefilename = workingdir + regfolderTB +\"/\"+ regfolderTB.replace(\"/\",\"_\")+\"_transactions.csv\"\n",
        "  # if(os.path.exists(parsefilename)):\n",
        "  #   print(\"File already exists!\\n\" + parsefilename)\n",
        "  # else:\n",
        "  #   print(\"Parsing...\" + parsefilename)\n",
        "  parseTransactionsXML(regfolderTB)\n",
        "\n",
        "  #Transactions Basic- Weekly, Daily\n",
        "  if os.path.isdir(workingdir + regfolderTB +\"/Monthly\"):\n",
        "    parseTransactionsXML(regfolderTB + \"/Monthly\")\n",
        "  if os.path.isdir(workingdir + regfolderTB +\"/Weekly\"):\n",
        "    parseTransactionsXML(regfolderTB + \"/Weekly\")\n",
        "  if os.path.isdir(workingdir + regfolderTB +\"/Daily\"):\n",
        "    parseTransactionsXML(regfolderTB + \"/Daily\")\n",
        "\n",
        "  #Details All\n",
        "  regfolderDA = regfolder + \"DetailsAll\"\n",
        "  # parsefilename = workingdir + regfolderDA +\"/\"+ regfolderDA.replace(\"/\",\"_\")+\"_transactions.csv\"\n",
        "  # if(os.path.exists(parsefilename)):\n",
        "  #   print(\"File already exists!\\n\" + parsefilename)\n",
        "  # else:\n",
        "  #   print(\"Parsing...\" + parsefilename)\n",
        "  parseDetailsAllXML(regfolderDA)\n",
        "\n",
        "  #Details All- Weekly, Monthly\n",
        "  if os.path.isdir(workingdir + regfolderDA +\"/Monthly\"):\n",
        "    parseDetailsAllXML(regfolderDA + \"/Monthly\")\n",
        "  if os.path.isdir(workingdir + regfolderDA +\"/Weekly\"):\n",
        "    parseDetailsAllXML(regfolderDA + \"/Weekly\")\n",
        "  if os.path.isdir(workingdir + regfolderDA +\"/Daily\"):\n",
        "    parseDetailsAllXML(regfolderDA + \"/Daily\")\n",
        "\n",
        "#"
      ],
      "metadata": {
        "id": "uxdhFK9gfazk"
      },
      "execution_count": null,
      "outputs": []
    },
    {
      "cell_type": "markdown",
      "source": [
        "# Combining csv files"
      ],
      "metadata": {
        "id": "6DIXrVpAZHZ8"
      }
    },
    {
      "cell_type": "markdown",
      "source": [
        "https://pythonguides.com/python-get-all-files-in-directory/"
      ],
      "metadata": {
        "id": "afIIOdbcZJ60"
      }
    },
    {
      "cell_type": "code",
      "source": [
        "import glob\n",
        "import pandas as pd"
      ],
      "metadata": {
        "id": "CdROF1IEZVJG"
      },
      "execution_count": null,
      "outputs": []
    },
    {
      "cell_type": "code",
      "source": [
        "workingdir = \"/gdrive/MyDrive/Brookings/XML_downloads/xml-byregistry-bydate/\""
      ],
      "metadata": {
        "id": "QI0jDCbjt11V"
      },
      "execution_count": null,
      "outputs": []
    },
    {
      "cell_type": "markdown",
      "source": [
        "DetailsAll_transactions"
      ],
      "metadata": {
        "id": "OdZbj9grZKgN"
      }
    },
    {
      "cell_type": "code",
      "source": [
        "# path = r\"/gdrive/MyDrive/Brookings/XML_downloads/xml-byregistry-bydate/\"\n",
        "files = [f for f in glob.glob(workingdir + \"**/*DetailsAll*transactions.csv\", recursive=True)]\n",
        "files"
      ],
      "metadata": {
        "id": "0g1OIeFSWmTf"
      },
      "execution_count": null,
      "outputs": []
    },
    {
      "cell_type": "code",
      "source": [
        "# for f in files:\n",
        "#   print(f)\n",
        "#   print(f.split(\"/\")[-1])\n",
        "#   df = pd.read_csv(f,encoding='UTF-8')\n",
        "#   print(df.shape)"
      ],
      "metadata": {
        "id": "QHD7FkjCe_oS"
      },
      "execution_count": null,
      "outputs": []
    },
    {
      "cell_type": "code",
      "source": [
        "all_DetailsAll_transactions = pd.concat([pd.read_csv(f, encoding='UTF-8') for f in files])\n",
        "all_DetailsAll_transactions = all_DetailsAll_transactions.drop_duplicates()\n",
        "all_DetailsAll_transactions"
      ],
      "metadata": {
        "id": "Qqhzfu__pVfp"
      },
      "execution_count": null,
      "outputs": []
    },
    {
      "cell_type": "code",
      "source": [
        "all_DetailsAll_transactions.to_csv(path+\"all_DetailsAll_transactions.csv\", index=False, encoding='utf-8-sig')"
      ],
      "metadata": {
        "id": "7S5p0_wMsHF0"
      },
      "execution_count": null,
      "outputs": []
    },
    {
      "cell_type": "code",
      "source": [
        "# treg_counts = all_DetailsAll_transactions.groupby(['TransferringRegistry']).size()\n",
        "# treg_counts\n",
        "# treg_counts.to_csv(\"treg_counts.csv\")"
      ],
      "metadata": {
        "id": "qYFJFo2_hepD"
      },
      "execution_count": null,
      "outputs": []
    },
    {
      "cell_type": "markdown",
      "source": [
        "DetailsAll_blocks"
      ],
      "metadata": {
        "id": "MTund27_tp8q"
      }
    },
    {
      "cell_type": "code",
      "source": [
        "files = [f for f in glob.glob(workingdir + \"**/*DetailsAll*blocks.csv\", recursive=True)]\n",
        "files"
      ],
      "metadata": {
        "id": "OZr-TQSbhvLD"
      },
      "execution_count": null,
      "outputs": []
    },
    {
      "cell_type": "code",
      "source": [
        "all_DetailsAll_blocks = pd.concat([pd.read_csv(f, encoding='UTF-8') for f in files])\n",
        "#all_DetailsAll_blocks = all_DetailsAll_blocks.drop_duplicates()\n",
        "all_DetailsAll_blocks"
      ],
      "metadata": {
        "id": "djIsxRxGuCHm"
      },
      "execution_count": null,
      "outputs": []
    },
    {
      "cell_type": "code",
      "source": [
        "all_DetailsAll_blocks.to_csv(workingdir+\"all_DetailsAll_blocks.csv\", index=False, encoding='utf-8-sig')"
      ],
      "metadata": {
        "id": "jnHLK53XuELm"
      },
      "execution_count": null,
      "outputs": []
    },
    {
      "cell_type": "markdown",
      "source": [
        "TransactionsBasic_transactions"
      ],
      "metadata": {
        "id": "8E4ECbrmC3C6"
      }
    },
    {
      "cell_type": "code",
      "source": [
        "files = [f for f in glob.glob(workingdir + \"**/*TransactionsBasic*transactions.csv\", recursive=True)]\n",
        "files"
      ],
      "metadata": {
        "id": "Dbpt1IKku7-e"
      },
      "execution_count": null,
      "outputs": []
    },
    {
      "cell_type": "code",
      "source": [
        "all_TransactionBasics_transactions = pd.concat([pd.read_csv(f, encoding='UTF-8') for f in files])\n",
        "all_TransactionBasics_transactions = all_TransactionBasics_transactions.drop_duplicates()\n",
        "all_TransactionBasics_transactions['TransactionType'] = all_TransactionBasics_transactions['TransactionType'].str.replace('-', '_')\n",
        "all_TransactionBasics_transactions"
      ],
      "metadata": {
        "id": "M7qFfBQNvHKR"
      },
      "execution_count": null,
      "outputs": []
    },
    {
      "cell_type": "code",
      "source": [
        "all_TransactionBasics_transactions = pd.read_csv(workingdir+\"all_TransactionBasics_transactions.csv\")"
      ],
      "metadata": {
        "id": "tPZbFxTCJU2Q"
      },
      "execution_count": null,
      "outputs": []
    },
    {
      "cell_type": "code",
      "source": [
        "all_TransactionBasics_transactions.to_csv(workingdir+\"all_TransactionBasics_transactions.csv\", index=False, encoding='utf-8-sig')"
      ],
      "metadata": {
        "id": "dwu6_1y0vIV4"
      },
      "execution_count": null,
      "outputs": []
    },
    {
      "cell_type": "markdown",
      "source": [
        "# Datetime experimentation"
      ],
      "metadata": {
        "id": "wS-R3FfuHAc4"
      }
    },
    {
      "cell_type": "markdown",
      "source": [
        "When you download the data as a csv and then open and save the csv in Excel, it drops part of the date time data. To avoid this, you could save the datetime variable as miliseconds, excel serial numbers, or a different standardized form. You could also split year,month,day, hours,minutes,seconds, microseconds, into their own columns."
      ],
      "metadata": {
        "id": "oKJfdG4jHSV3"
      }
    },
    {
      "cell_type": "code",
      "source": [
        "all_DetailsAll_transactions = pd.read_csv(workingdir+\"all_DetailsAll_transactions.csv\")"
      ],
      "metadata": {
        "id": "y0-9l3erD1Vh"
      },
      "execution_count": null,
      "outputs": []
    },
    {
      "cell_type": "markdown",
      "source": [
        "https://stackoverflow.com/questions/9574793/how-to-convert-a-python-datetime-datetime-to-excel-serial-date-number"
      ],
      "metadata": {
        "id": "8plml5O3DP3H"
      }
    },
    {
      "cell_type": "code",
      "source": [
        "import datetime as dt\n",
        "def excel_date(date1):\n",
        "    temp = dt.datetime(1899, 12, 30)    # Note, not 31st Dec but 30th!\n",
        "    delta = date1 - temp\n",
        "    return float(delta.days) + (float(delta.seconds) / 86400.0)"
      ],
      "metadata": {
        "id": "JeTRP-wt5LTr"
      },
      "execution_count": null,
      "outputs": []
    },
    {
      "cell_type": "code",
      "source": [
        "b = datetime(2005, 12, 28, 12, 3, 54, 581)\n",
        "excel_date(b)"
      ],
      "metadata": {
        "colab": {
          "base_uri": "https://localhost:8080/"
        },
        "id": "_MXjcNjt5NU7",
        "outputId": "f7409680-cb6b-463e-cfb5-7c5d8b640c51"
      },
      "execution_count": null,
      "outputs": [
        {
          "output_type": "execute_result",
          "data": {
            "text/plain": [
              "38714.50270833333"
            ]
          },
          "metadata": {},
          "execution_count": 82
        }
      ]
    },
    {
      "cell_type": "code",
      "source": [
        "b = datetime(2005, 12, 28, 12, 3, 55, 0)\n",
        "excel_date(b)"
      ],
      "metadata": {
        "colab": {
          "base_uri": "https://localhost:8080/"
        },
        "id": "AL2ks8SKAvJO",
        "outputId": "aa8f4220-39f1-4c35-82ae-8206680207ed"
      },
      "execution_count": null,
      "outputs": [
        {
          "output_type": "execute_result",
          "data": {
            "text/plain": [
              "38714.50271990741"
            ]
          },
          "metadata": {},
          "execution_count": 84
        }
      ]
    },
    {
      "cell_type": "code",
      "source": [
        "all_DetailsAll_transactions.to_excel(workingdir+\"all_DetailsAll_transactions.xlsx\", index=False)"
      ],
      "metadata": {
        "id": "MeSlkOsXqfPt"
      },
      "execution_count": null,
      "outputs": []
    },
    {
      "cell_type": "markdown",
      "source": [
        "https://pythoninoffice.com/save-data-to-excel-file-python/\n"
      ],
      "metadata": {
        "id": "OyVFzvyEsRWm"
      }
    },
    {
      "cell_type": "code",
      "source": [
        "from datetime import datetime\n",
        "def toDatetime(date_time_str):\n",
        "  date = date_time_str.split(\" \")[0]\n",
        "  year = int(date.split(\"-\")[0])\n",
        "  month = int(date.split(\"-\")[1])\n",
        "  day = int(date.split(\"-\")[2])\n",
        "\n",
        "  time = date_time_str.split(\" \")[1]\n",
        "  hr = int(time.split(\":\")[0])\n",
        "  min = int(time.split(\":\")[1])\n",
        "  secs = time.split(\":\")[2]\n",
        "  secs = format(float(secs),\".3f\")\n",
        "  print(secs)\n",
        "  sec = int(secs.split(\".\")[0])\n",
        "  micro = int(secs.split(\".\")[1])\n",
        "\n",
        "  d = datetime(year,month,day,hr,min,sec,micro)\n",
        "  return excel_date(d)\n",
        "  #\n",
        "  #dt = date + \" \" + hrs + \":\" + min + \":\" + sec\n",
        "  #return datetime.strptime(dt, '%Y-%m-%d %H:%M:%S.%f')"
      ],
      "metadata": {
        "id": "JLr9BQ2BJ88D"
      },
      "execution_count": null,
      "outputs": []
    },
    {
      "cell_type": "code",
      "source": [
        "toDatetime(\"2005-12-28 12:03:54.581\")"
      ],
      "metadata": {
        "colab": {
          "base_uri": "https://localhost:8080/"
        },
        "id": "dSxGJrLLBsvG",
        "outputId": "c0eb64ed-a15f-4427-bb3a-7c1e30c17f51"
      },
      "execution_count": null,
      "outputs": [
        {
          "output_type": "stream",
          "name": "stdout",
          "text": [
            "54.581\n"
          ]
        },
        {
          "output_type": "execute_result",
          "data": {
            "text/plain": [
              "38714.50270833333"
            ]
          },
          "metadata": {},
          "execution_count": 88
        }
      ]
    },
    {
      "cell_type": "code",
      "source": [
        "all_DetailsAll_transactions['TransactionDate'] = all_DetailsAll_transactions['TransactionDate'].apply(toDatetime)\n",
        "all_DetailsAll_transactions"
      ],
      "metadata": {
        "id": "bzQe9qC_IyAC"
      },
      "execution_count": null,
      "outputs": []
    },
    {
      "cell_type": "code",
      "source": [
        "all_DetailsAll_transactions.to_csv(workingdir+\"all_DetailsAll_transactions2.csv\",index=False, encoding='utf-8-sig')\n",
        "#date_format='%Y-%m-%d %H:%M:%S',"
      ],
      "metadata": {
        "id": "r55rbpmHEYwZ"
      },
      "execution_count": null,
      "outputs": []
    },
    {
      "cell_type": "markdown",
      "source": [
        "# Archives"
      ],
      "metadata": {
        "id": "9XEkh2HfWb2u"
      }
    },
    {
      "cell_type": "code",
      "source": [
        "def parseXMLfiles(folder):\n",
        "  path = \"./\"#%pwd\n",
        "  xmlfiles = [_ for _ in os.listdir(path +\"/\"+folder) if _.endswith(\"DetailsAll.xml\")] #os.listdir(path);\n",
        "  all_transactions = pd.DataFrame();\n",
        "  all_blocks = pd.DataFrame();\n",
        "\n",
        "  for file in xmlfiles:\n",
        "    file = \"./\"+ folder + \"/\" + file\n",
        "    xml_data = objectify.parse(file)  # Parse XML data\n",
        "    transaction_tags = xml_data.findall(\"TransactionDetailsAll/Transaction\")\n",
        "    row = transaction_tags[0].getchildren()\n",
        "\n",
        "    transactions = [];\n",
        "    column_names = [];\n",
        "    blocks = pd.DataFrame();\n",
        "    blocknames = [];\n",
        "    aqflag = 0;\n",
        "\n",
        "    for item in row:\n",
        "      if(len(item.getchildren())> 0): #If the list item has children, it is a transaction block\n",
        "        blocknames = [\"filename\"]+[b.tag for b in item.getchildren()]\n",
        "        blockrow = [file,transactionID]+[b.text for b in item.getchildren()]\n",
        "        blockrow = pd.DataFrame([blockrow],columns=blocknames)\n",
        "        blocks = pd.concat([blocks,blockrow]).reset_index(drop=True) #blocks.append([blockrow])\n",
        "        #blockrow = [file] + [b.text for b in item.getchildren()]\n",
        "        #print(blockrow)\n",
        "        #blocks = blocks.append([blockrow])\n",
        "      else:\n",
        "        #colum_names.append(item.tag)\n",
        "        if(item.tag==\"AcquiringRegistry\"):\n",
        "            transactions.append(item.text)\n",
        "            if(aqflag==0):\n",
        "              column_names.append(item.tag)\n",
        "              aqflag=1\n",
        "            else:\n",
        "              column_names.append(\"AcquiringRegistryCode\")\n",
        "        else:\n",
        "            if(item.tag not in column_names):\n",
        "              transactions.append(item.text)\n",
        "              column_names.append(item.tag)\n",
        "    transactions = pd.DataFrame([transactions], columns=column_names)\n",
        "    #blocks.columns = blocknames\n",
        "    #aligned = appendDiff(transactions, all_transactions)\n",
        "    #transactions = aligned[0]\n",
        "    #all_transactions = aligned[1]\n",
        "    all_transactions = all_transactions.append(transactions)\n",
        "    all_blocks = all_blocks.append(blocks)\n",
        "    #all_blocks.columns = blocknames\n",
        "\n",
        "  #print(blocknames)\n",
        "  #After loops\n",
        "  #print(outprefix + \"_DetailsAll_xml_bycountry-year.csv\")\n",
        "  #all_transactions.to_csv(outprefix + \"_DetailsAll_xml_bycountry-year.csv\",encoding='utf-8')\n",
        "  #print(outprefix + \"_TransactionBlocks_xml_bytransactions.csv\")\n",
        "  #all_blocks.to_csv(outprefix + \"_TransactionBlocks_xml_bytransactions.csv\",encoding='utf-8')\n",
        "  return([all_transactions, all_blocks])"
      ],
      "metadata": {
        "id": "M3xkBqDXWpM9"
      },
      "execution_count": null,
      "outputs": []
    },
    {
      "cell_type": "code",
      "source": [
        "!ls"
      ],
      "metadata": {
        "colab": {
          "base_uri": "https://localhost:8080/"
        },
        "id": "vMVigVSoZ6rC",
        "outputId": "0d10519f-1339-4259-83dc-df4e1efeedf9"
      },
      "execution_count": null,
      "outputs": [
        {
          "output_type": "stream",
          "name": "stdout",
          "text": [
            "sample_data\n"
          ]
        }
      ]
    },
    {
      "cell_type": "code",
      "source": [
        "%cd /gdrive/MyDrive/Brookings/XML_downloads/xml-byregistry-bydate/"
      ],
      "metadata": {
        "colab": {
          "base_uri": "https://localhost:8080/"
        },
        "id": "TtIFdEUJaYwK",
        "outputId": "c91d73b6-5dc3-4d37-fe56-88b75a0f125a"
      },
      "execution_count": null,
      "outputs": [
        {
          "output_type": "stream",
          "name": "stdout",
          "text": [
            "/gdrive/MyDrive/Brookings/XML_downloads/xml-byregistry-bydate\n"
          ]
        }
      ]
    },
    {
      "cell_type": "code",
      "source": [
        "parseXMLfiles(\"BE/DetailsAll\")"
      ],
      "metadata": {
        "colab": {
          "base_uri": "https://localhost:8080/"
        },
        "id": "ABerA4vEJt32",
        "outputId": "62ba9e43-ab2a-494c-b385-e27259b5800e"
      },
      "execution_count": null,
      "outputs": [
        {
          "output_type": "error",
          "ename": "NameError",
          "evalue": "ignored",
          "traceback": [
            "\u001b[0;31m---------------------------------------------------------------------------\u001b[0m",
            "\u001b[0;31mNameError\u001b[0m                                 Traceback (most recent call last)",
            "\u001b[0;32m<ipython-input-10-dcd25718b7ff>\u001b[0m in \u001b[0;36m<module>\u001b[0;34m()\u001b[0m\n\u001b[0;32m----> 1\u001b[0;31m \u001b[0mparseXMLfiles\u001b[0m\u001b[0;34m(\u001b[0m\u001b[0;34m\"BE/DetailsAll\"\u001b[0m\u001b[0;34m)\u001b[0m\u001b[0;34m\u001b[0m\u001b[0;34m\u001b[0m\u001b[0m\n\u001b[0m",
            "\u001b[0;32m<ipython-input-8-f856ac982245>\u001b[0m in \u001b[0;36mparseXMLfiles\u001b[0;34m(folder)\u001b[0m\n\u001b[1;32m     20\u001b[0m       \u001b[0;32mif\u001b[0m\u001b[0;34m(\u001b[0m\u001b[0mlen\u001b[0m\u001b[0;34m(\u001b[0m\u001b[0mitem\u001b[0m\u001b[0;34m.\u001b[0m\u001b[0mgetchildren\u001b[0m\u001b[0;34m(\u001b[0m\u001b[0;34m)\u001b[0m\u001b[0;34m)\u001b[0m\u001b[0;34m>\u001b[0m \u001b[0;36m0\u001b[0m\u001b[0;34m)\u001b[0m\u001b[0;34m:\u001b[0m \u001b[0;31m#If the list item has children, it is a transaction block\u001b[0m\u001b[0;34m\u001b[0m\u001b[0;34m\u001b[0m\u001b[0m\n\u001b[1;32m     21\u001b[0m         \u001b[0mblocknames\u001b[0m \u001b[0;34m=\u001b[0m \u001b[0;34m[\u001b[0m\u001b[0;34m\"filename\"\u001b[0m\u001b[0;34m]\u001b[0m\u001b[0;34m+\u001b[0m\u001b[0;34m[\u001b[0m\u001b[0mb\u001b[0m\u001b[0;34m.\u001b[0m\u001b[0mtag\u001b[0m \u001b[0;32mfor\u001b[0m \u001b[0mb\u001b[0m \u001b[0;32min\u001b[0m \u001b[0mitem\u001b[0m\u001b[0;34m.\u001b[0m\u001b[0mgetchildren\u001b[0m\u001b[0;34m(\u001b[0m\u001b[0;34m)\u001b[0m\u001b[0;34m]\u001b[0m\u001b[0;34m\u001b[0m\u001b[0;34m\u001b[0m\u001b[0m\n\u001b[0;32m---> 22\u001b[0;31m         \u001b[0mblockrow\u001b[0m \u001b[0;34m=\u001b[0m \u001b[0;34m[\u001b[0m\u001b[0mfile\u001b[0m\u001b[0;34m,\u001b[0m\u001b[0mtransactionID\u001b[0m\u001b[0;34m]\u001b[0m\u001b[0;34m+\u001b[0m\u001b[0;34m[\u001b[0m\u001b[0mb\u001b[0m\u001b[0;34m.\u001b[0m\u001b[0mtext\u001b[0m \u001b[0;32mfor\u001b[0m \u001b[0mb\u001b[0m \u001b[0;32min\u001b[0m \u001b[0mitem\u001b[0m\u001b[0;34m.\u001b[0m\u001b[0mgetchildren\u001b[0m\u001b[0;34m(\u001b[0m\u001b[0;34m)\u001b[0m\u001b[0;34m]\u001b[0m\u001b[0;34m\u001b[0m\u001b[0;34m\u001b[0m\u001b[0m\n\u001b[0m\u001b[1;32m     23\u001b[0m         \u001b[0mblockrow\u001b[0m \u001b[0;34m=\u001b[0m \u001b[0mpd\u001b[0m\u001b[0;34m.\u001b[0m\u001b[0mDataFrame\u001b[0m\u001b[0;34m(\u001b[0m\u001b[0;34m[\u001b[0m\u001b[0mblockrow\u001b[0m\u001b[0;34m]\u001b[0m\u001b[0;34m,\u001b[0m\u001b[0mcolumns\u001b[0m\u001b[0;34m=\u001b[0m\u001b[0mblocknames\u001b[0m\u001b[0;34m)\u001b[0m\u001b[0;34m\u001b[0m\u001b[0;34m\u001b[0m\u001b[0m\n\u001b[1;32m     24\u001b[0m         \u001b[0mblocks\u001b[0m \u001b[0;34m=\u001b[0m \u001b[0mpd\u001b[0m\u001b[0;34m.\u001b[0m\u001b[0mconcat\u001b[0m\u001b[0;34m(\u001b[0m\u001b[0;34m[\u001b[0m\u001b[0mblocks\u001b[0m\u001b[0;34m,\u001b[0m\u001b[0mblockrow\u001b[0m\u001b[0;34m]\u001b[0m\u001b[0;34m)\u001b[0m\u001b[0;34m.\u001b[0m\u001b[0mreset_index\u001b[0m\u001b[0;34m(\u001b[0m\u001b[0mdrop\u001b[0m\u001b[0;34m=\u001b[0m\u001b[0;32mTrue\u001b[0m\u001b[0;34m)\u001b[0m \u001b[0;31m#blocks.append([blockrow])\u001b[0m\u001b[0;34m\u001b[0m\u001b[0;34m\u001b[0m\u001b[0m\n",
            "\u001b[0;31mNameError\u001b[0m: name 'transactionID' is not defined"
          ]
        }
      ]
    },
    {
      "cell_type": "code",
      "source": [
        "file = \"./BE/DetailsAll/BE_2005-01-01_2006-01-01_DetailsAll.xml\"\n",
        "xml_data = objectify.parse(file)"
      ],
      "metadata": {
        "id": "j9gem-5QZhkK"
      },
      "execution_count": null,
      "outputs": []
    },
    {
      "cell_type": "code",
      "source": [
        "BE = parseXMLfiles(\"BE/DetailsAll\")\n",
        "BE_transactions = BE[0]\n",
        "BE_blocks = BE[1]"
      ],
      "metadata": {
        "colab": {
          "base_uri": "https://localhost:8080/"
        },
        "id": "3ZE3hPMNW4CV",
        "outputId": "36e6bad7-924a-4e1b-fb83-f031a1954f69"
      },
      "execution_count": null,
      "outputs": [
        {
          "output_type": "stream",
          "name": "stdout",
          "text": [
            "['filename', 'OriginatingRegistry', 'NumberOfUnits', 'SuppUnitTypeCode', 'OriginalPeriodCode', 'ApplicablePeriodCode', 'UnitTypeCode']\n"
          ]
        }
      ]
    },
    {
      "cell_type": "code",
      "source": [
        "BE_blocks"
      ],
      "metadata": {
        "id": "ldnaBIlRkwtP"
      },
      "execution_count": null,
      "outputs": []
    },
    {
      "cell_type": "code",
      "source": [
        "folder = \"BE/DetailsAll\"\n",
        "file = \"BE_2014-01-01_2015-01-01_DetailsAll.xml\"\n",
        "file = \"./\"+ folder + \"/\" + file\n",
        "xml_data = objectify.parse(file)  # Parse XML data\n",
        "transaction_tags = xml_data.findall(\"TransactionDetailsAll/Transaction\")\n",
        "\n",
        "transactionsall = pd.DataFrame();\n",
        "blocks = pd.DataFrame();\n",
        "blocknames = [];\n",
        "\n",
        "for tag in transaction_tags:\n",
        "  row = tag.getchildren()\n",
        "  aqflag = 0;\n",
        "  transactionID = \"\";\n",
        "  transactions = [];\n",
        "  column_names = [];\n",
        "\n",
        "  for item in row:\n",
        "    if(len(item.getchildren())> 0): #If the list item has children, it is a transaction block\n",
        "      blocknames = [\"filename\",\"transactionID\"]+[b.tag for b in item.getchildren()]\n",
        "      blockrow = [file,transactionID]+[b.text for b in item.getchildren()]\n",
        "      blockrow = pd.DataFrame([blockrow],columns=blocknames)\n",
        "      blocks = pd.concat([blocks,blockrow]).reset_index(drop=True) #blocks.append([blockrow])\n",
        "    else:\n",
        "      #colum_names.append(item.tag)\n",
        "      if(item.tag==\"AcquiringRegistry\"):\n",
        "          transactions.append(item.text)\n",
        "          if(aqflag==0):\n",
        "            column_names.append(item.tag)\n",
        "            aqflag=1\n",
        "          else:\n",
        "            column_names.append(\"AcquiringRegistryCode\")\n",
        "      else:\n",
        "          if(item.tag not in column_names):\n",
        "            transactions.append(item.text)\n",
        "            column_names.append(item.tag)\n",
        "            if(item.tag==\"TransactionID\"):\n",
        "              transactionID = item.text;\n",
        "  transactions = pd.DataFrame([transactions], columns=column_names)\n",
        "  transactionsall = pd.concat([transactionsall,transactions]).reset_index(drop=True)"
      ],
      "metadata": {
        "id": "I_LtLLXumiv-"
      },
      "execution_count": null,
      "outputs": []
    },
    {
      "cell_type": "code",
      "source": [
        "transactionsall"
      ],
      "metadata": {
        "colab": {
          "base_uri": "https://localhost:8080/"
        },
        "id": "YX-Iem-eKl8u",
        "outputId": "20d6b475-88eb-4f43-b2cb-e5fd943116c4"
      },
      "execution_count": null,
      "outputs": [
        {
          "output_type": "execute_result",
          "data": {
            "text/html": [
              "\n",
              "  <div id=\"df-f52b0d95-2346-44eb-a702-17bd23f2210d\">\n",
              "    <div class=\"colab-df-container\">\n",
              "      <div>\n",
              "<style scoped>\n",
              "    .dataframe tbody tr th:only-of-type {\n",
              "        vertical-align: middle;\n",
              "    }\n",
              "\n",
              "    .dataframe tbody tr th {\n",
              "        vertical-align: top;\n",
              "    }\n",
              "\n",
              "    .dataframe thead th {\n",
              "        text-align: right;\n",
              "    }\n",
              "</style>\n",
              "<table border=\"1\" class=\"dataframe\">\n",
              "  <thead>\n",
              "    <tr style=\"text-align: right;\">\n",
              "      <th></th>\n",
              "      <th>TransferringRegistry</th>\n",
              "      <th>TransferringAccountType</th>\n",
              "      <th>AcquiringRegistry</th>\n",
              "      <th>TransferringAccountTypeCode</th>\n",
              "      <th>AcquiringRegistryCode</th>\n",
              "      <th>AcquiringAccountHolderName</th>\n",
              "      <th>TransferringAccountHolderName</th>\n",
              "      <th>AcquiringAccountName</th>\n",
              "      <th>AcquiringAccountType</th>\n",
              "      <th>TransferringAccountName</th>\n",
              "      <th>TransactionDate</th>\n",
              "      <th>TransactionID</th>\n",
              "      <th>SuppTransactionTypeCode</th>\n",
              "      <th>TransactionTypeCodeLookup</th>\n",
              "      <th>TransactionType</th>\n",
              "      <th>SuppTransactionTypeCodeLookup</th>\n",
              "    </tr>\n",
              "  </thead>\n",
              "  <tbody>\n",
              "    <tr>\n",
              "      <th>0</th>\n",
              "      <td>BE</td>\n",
              "      <td>Holding Account</td>\n",
              "      <td>BE</td>\n",
              "      <td>100</td>\n",
              "      <td>Belgium</td>\n",
              "      <td>Zandvliet Power</td>\n",
              "      <td>Electrabel</td>\n",
              "      <td>307 Zandvliet Power</td>\n",
              "      <td>100</td>\n",
              "      <td>089 Electrabel Turbo Jet back up Cierreux</td>\n",
              "      <td>2014-12-31 12:04:34.307</td>\n",
              "      <td>EU237235</td>\n",
              "      <td>0</td>\n",
              "      <td>Internal - Internal transfer of unit/supplemen...</td>\n",
              "      <td>10</td>\n",
              "      <td>no supp</td>\n",
              "    </tr>\n",
              "    <tr>\n",
              "      <th>1</th>\n",
              "      <td>BE</td>\n",
              "      <td>Holding Account</td>\n",
              "      <td>EU</td>\n",
              "      <td>100</td>\n",
              "      <td>European Commission</td>\n",
              "      <td>EUROPEAN COMMISSION</td>\n",
              "      <td>Raffinerie Tirlemontoise-Tiense Suikerraffinad...</td>\n",
              "      <td>EU International Credit Account</td>\n",
              "      <td>100</td>\n",
              "      <td>236 Tiense Suikerraffinaderij - vestiging Tienen</td>\n",
              "      <td>2014-12-29 10:59:31.064</td>\n",
              "      <td>EU227491</td>\n",
              "      <td>71</td>\n",
              "      <td>Internal - Internal transfer of unit/supplemen...</td>\n",
              "      <td>10</td>\n",
              "      <td>Exchange</td>\n",
              "    </tr>\n",
              "    <tr>\n",
              "      <th>2</th>\n",
              "      <td>BE</td>\n",
              "      <td>Holding Account</td>\n",
              "      <td>NL</td>\n",
              "      <td>100</td>\n",
              "      <td>Netherlands</td>\n",
              "      <td>ACT Financial Solutions B.V.</td>\n",
              "      <td>DUCATT</td>\n",
              "      <td>ACT Trading</td>\n",
              "      <td>100</td>\n",
              "      <td>396 DUCATT NV</td>\n",
              "      <td>2014-12-24 17:58:26.192</td>\n",
              "      <td>EU236974</td>\n",
              "      <td>0</td>\n",
              "      <td>Internal - Internal transfer of unit/supplemen...</td>\n",
              "      <td>10</td>\n",
              "      <td>no supp</td>\n",
              "    </tr>\n",
              "    <tr>\n",
              "      <th>3</th>\n",
              "      <td>BE</td>\n",
              "      <td>Holding Account</td>\n",
              "      <td>EU</td>\n",
              "      <td>100</td>\n",
              "      <td>European Commission</td>\n",
              "      <td>EUROPEAN COMMISSION</td>\n",
              "      <td>DUCATT</td>\n",
              "      <td>EU International Credit Account</td>\n",
              "      <td>100</td>\n",
              "      <td>396 DUCATT NV</td>\n",
              "      <td>2014-12-22 21:47:20.341</td>\n",
              "      <td>EU236658</td>\n",
              "      <td>71</td>\n",
              "      <td>Internal - Internal transfer of unit/supplemen...</td>\n",
              "      <td>10</td>\n",
              "      <td>Exchange</td>\n",
              "    </tr>\n",
              "    <tr>\n",
              "      <th>4</th>\n",
              "      <td>BE</td>\n",
              "      <td>Holding Account</td>\n",
              "      <td>BE</td>\n",
              "      <td>100</td>\n",
              "      <td>Belgium</td>\n",
              "      <td>Carmeuse</td>\n",
              "      <td>Carmeuse</td>\n",
              "      <td>902 Carmeuse SA</td>\n",
              "      <td>100</td>\n",
              "      <td>218 Carmeuse Four à chaux Seilles</td>\n",
              "      <td>2014-12-22 12:02:35.267</td>\n",
              "      <td>EU235007</td>\n",
              "      <td>0</td>\n",
              "      <td>Internal - Internal transfer of unit/supplemen...</td>\n",
              "      <td>10</td>\n",
              "      <td>no supp</td>\n",
              "    </tr>\n",
              "    <tr>\n",
              "      <th>...</th>\n",
              "      <td>...</td>\n",
              "      <td>...</td>\n",
              "      <td>...</td>\n",
              "      <td>...</td>\n",
              "      <td>...</td>\n",
              "      <td>...</td>\n",
              "      <td>...</td>\n",
              "      <td>...</td>\n",
              "      <td>...</td>\n",
              "      <td>...</td>\n",
              "      <td>...</td>\n",
              "      <td>...</td>\n",
              "      <td>...</td>\n",
              "      <td>...</td>\n",
              "      <td>...</td>\n",
              "      <td>...</td>\n",
              "    </tr>\n",
              "    <tr>\n",
              "      <th>952</th>\n",
              "      <td>BE</td>\n",
              "      <td>Holding Account</td>\n",
              "      <td>NL</td>\n",
              "      <td>100</td>\n",
              "      <td>Netherlands</td>\n",
              "      <td>Electrabel NV/SA</td>\n",
              "      <td>Electrabel</td>\n",
              "      <td>Electrabel S.A./N.V.</td>\n",
              "      <td>100</td>\n",
              "      <td>089 Electrabel Turbo Jet back up Cierreux</td>\n",
              "      <td>2014-01-07 16:03:11.401</td>\n",
              "      <td>EU145639</td>\n",
              "      <td>0</td>\n",
              "      <td>Internal - Internal transfer of unit/supplemen...</td>\n",
              "      <td>10</td>\n",
              "      <td>no supp</td>\n",
              "    </tr>\n",
              "    <tr>\n",
              "      <th>953</th>\n",
              "      <td>BE</td>\n",
              "      <td>Holding Account</td>\n",
              "      <td>BE</td>\n",
              "      <td>100</td>\n",
              "      <td>Belgium</td>\n",
              "      <td>Electrabel</td>\n",
              "      <td>ArcelorMittal Belgium</td>\n",
              "      <td>074 Electrabel - Centrale Rodenhuize</td>\n",
              "      <td>100</td>\n",
              "      <td>011 ArcelorMittal Gent</td>\n",
              "      <td>2014-01-06 15:40:01.832</td>\n",
              "      <td>EU145592</td>\n",
              "      <td>0</td>\n",
              "      <td>Internal - Internal transfer of unit/supplemen...</td>\n",
              "      <td>10</td>\n",
              "      <td>no supp</td>\n",
              "    </tr>\n",
              "    <tr>\n",
              "      <th>954</th>\n",
              "      <td>BE</td>\n",
              "      <td>Holding Account</td>\n",
              "      <td>BE</td>\n",
              "      <td>100</td>\n",
              "      <td>Belgium</td>\n",
              "      <td>Carsid</td>\n",
              "      <td>Duferco Belgium</td>\n",
              "      <td>284 Carsid Aciérie Marcinelle</td>\n",
              "      <td>100</td>\n",
              "      <td>180 Duferco Belgium - Produits Longs La Louvière</td>\n",
              "      <td>2014-01-06 12:01:28.878</td>\n",
              "      <td>EU140762</td>\n",
              "      <td>0</td>\n",
              "      <td>Internal - Internal transfer of unit/supplemen...</td>\n",
              "      <td>10</td>\n",
              "      <td>no supp</td>\n",
              "    </tr>\n",
              "    <tr>\n",
              "      <th>955</th>\n",
              "      <td>BE</td>\n",
              "      <td>Holding Account</td>\n",
              "      <td>BE</td>\n",
              "      <td>100</td>\n",
              "      <td>Belgium</td>\n",
              "      <td>TotalEnergies Refinery Antwerp</td>\n",
              "      <td>TotalEnergies Olefins Antwerp</td>\n",
              "      <td>127 TotalEnergies Refinery Antwerp</td>\n",
              "      <td>100</td>\n",
              "      <td>222 TotalEnergies Olefins Antwerp</td>\n",
              "      <td>2014-01-03 17:52:48.864</td>\n",
              "      <td>EU145547</td>\n",
              "      <td>0</td>\n",
              "      <td>Internal - Internal transfer of unit/supplemen...</td>\n",
              "      <td>10</td>\n",
              "      <td>no supp</td>\n",
              "    </tr>\n",
              "    <tr>\n",
              "      <th>956</th>\n",
              "      <td>BE</td>\n",
              "      <td>Holding Account</td>\n",
              "      <td>BE</td>\n",
              "      <td>100</td>\n",
              "      <td>Belgium</td>\n",
              "      <td>B.A.S.F. Antwerpen</td>\n",
              "      <td>B.A.S.F. Antwerpen</td>\n",
              "      <td>1281 BASF Antwerpen - 127a</td>\n",
              "      <td>100</td>\n",
              "      <td>128 B.A.S.F. Antwerpen</td>\n",
              "      <td>2014-01-03 12:33:33.268</td>\n",
              "      <td>EU145340</td>\n",
              "      <td>0</td>\n",
              "      <td>Internal - Internal transfer of unit/supplemen...</td>\n",
              "      <td>10</td>\n",
              "      <td>no supp</td>\n",
              "    </tr>\n",
              "  </tbody>\n",
              "</table>\n",
              "<p>957 rows × 16 columns</p>\n",
              "</div>\n",
              "      <button class=\"colab-df-convert\" onclick=\"convertToInteractive('df-f52b0d95-2346-44eb-a702-17bd23f2210d')\"\n",
              "              title=\"Convert this dataframe to an interactive table.\"\n",
              "              style=\"display:none;\">\n",
              "        \n",
              "  <svg xmlns=\"http://www.w3.org/2000/svg\" height=\"24px\"viewBox=\"0 0 24 24\"\n",
              "       width=\"24px\">\n",
              "    <path d=\"M0 0h24v24H0V0z\" fill=\"none\"/>\n",
              "    <path d=\"M18.56 5.44l.94 2.06.94-2.06 2.06-.94-2.06-.94-.94-2.06-.94 2.06-2.06.94zm-11 1L8.5 8.5l.94-2.06 2.06-.94-2.06-.94L8.5 2.5l-.94 2.06-2.06.94zm10 10l.94 2.06.94-2.06 2.06-.94-2.06-.94-.94-2.06-.94 2.06-2.06.94z\"/><path d=\"M17.41 7.96l-1.37-1.37c-.4-.4-.92-.59-1.43-.59-.52 0-1.04.2-1.43.59L10.3 9.45l-7.72 7.72c-.78.78-.78 2.05 0 2.83L4 21.41c.39.39.9.59 1.41.59.51 0 1.02-.2 1.41-.59l7.78-7.78 2.81-2.81c.8-.78.8-2.07 0-2.86zM5.41 20L4 18.59l7.72-7.72 1.47 1.35L5.41 20z\"/>\n",
              "  </svg>\n",
              "      </button>\n",
              "      \n",
              "  <style>\n",
              "    .colab-df-container {\n",
              "      display:flex;\n",
              "      flex-wrap:wrap;\n",
              "      gap: 12px;\n",
              "    }\n",
              "\n",
              "    .colab-df-convert {\n",
              "      background-color: #E8F0FE;\n",
              "      border: none;\n",
              "      border-radius: 50%;\n",
              "      cursor: pointer;\n",
              "      display: none;\n",
              "      fill: #1967D2;\n",
              "      height: 32px;\n",
              "      padding: 0 0 0 0;\n",
              "      width: 32px;\n",
              "    }\n",
              "\n",
              "    .colab-df-convert:hover {\n",
              "      background-color: #E2EBFA;\n",
              "      box-shadow: 0px 1px 2px rgba(60, 64, 67, 0.3), 0px 1px 3px 1px rgba(60, 64, 67, 0.15);\n",
              "      fill: #174EA6;\n",
              "    }\n",
              "\n",
              "    [theme=dark] .colab-df-convert {\n",
              "      background-color: #3B4455;\n",
              "      fill: #D2E3FC;\n",
              "    }\n",
              "\n",
              "    [theme=dark] .colab-df-convert:hover {\n",
              "      background-color: #434B5C;\n",
              "      box-shadow: 0px 1px 3px 1px rgba(0, 0, 0, 0.15);\n",
              "      filter: drop-shadow(0px 1px 2px rgba(0, 0, 0, 0.3));\n",
              "      fill: #FFFFFF;\n",
              "    }\n",
              "  </style>\n",
              "\n",
              "      <script>\n",
              "        const buttonEl =\n",
              "          document.querySelector('#df-f52b0d95-2346-44eb-a702-17bd23f2210d button.colab-df-convert');\n",
              "        buttonEl.style.display =\n",
              "          google.colab.kernel.accessAllowed ? 'block' : 'none';\n",
              "\n",
              "        async function convertToInteractive(key) {\n",
              "          const element = document.querySelector('#df-f52b0d95-2346-44eb-a702-17bd23f2210d');\n",
              "          const dataTable =\n",
              "            await google.colab.kernel.invokeFunction('convertToInteractive',\n",
              "                                                     [key], {});\n",
              "          if (!dataTable) return;\n",
              "\n",
              "          const docLinkHtml = 'Like what you see? Visit the ' +\n",
              "            '<a target=\"_blank\" href=https://colab.research.google.com/notebooks/data_table.ipynb>data table notebook</a>'\n",
              "            + ' to learn more about interactive tables.';\n",
              "          element.innerHTML = '';\n",
              "          dataTable['output_type'] = 'display_data';\n",
              "          await google.colab.output.renderOutput(dataTable, element);\n",
              "          const docLink = document.createElement('div');\n",
              "          docLink.innerHTML = docLinkHtml;\n",
              "          element.appendChild(docLink);\n",
              "        }\n",
              "      </script>\n",
              "    </div>\n",
              "  </div>\n",
              "  "
            ],
            "text/plain": [
              "    TransferringRegistry  ... SuppTransactionTypeCodeLookup\n",
              "0                     BE  ...                      no supp \n",
              "1                     BE  ...                      Exchange\n",
              "2                     BE  ...                      no supp \n",
              "3                     BE  ...                      Exchange\n",
              "4                     BE  ...                      no supp \n",
              "..                   ...  ...                           ...\n",
              "952                   BE  ...                      no supp \n",
              "953                   BE  ...                      no supp \n",
              "954                   BE  ...                      no supp \n",
              "955                   BE  ...                      no supp \n",
              "956                   BE  ...                      no supp \n",
              "\n",
              "[957 rows x 16 columns]"
            ]
          },
          "metadata": {},
          "execution_count": 17
        }
      ]
    },
    {
      "cell_type": "code",
      "source": [
        "blocks"
      ],
      "metadata": {
        "colab": {
          "base_uri": "https://localhost:8080/"
        },
        "id": "wRvkngBQtfMc",
        "outputId": "935c628c-7f41-44ee-c74a-1af31dc61990"
      },
      "execution_count": null,
      "outputs": [
        {
          "output_type": "execute_result",
          "data": {
            "text/html": [
              "\n",
              "  <div id=\"df-eb8e2c53-373c-4c3a-b022-267ca5222627\">\n",
              "    <div class=\"colab-df-container\">\n",
              "      <div>\n",
              "<style scoped>\n",
              "    .dataframe tbody tr th:only-of-type {\n",
              "        vertical-align: middle;\n",
              "    }\n",
              "\n",
              "    .dataframe tbody tr th {\n",
              "        vertical-align: top;\n",
              "    }\n",
              "\n",
              "    .dataframe thead th {\n",
              "        text-align: right;\n",
              "    }\n",
              "</style>\n",
              "<table border=\"1\" class=\"dataframe\">\n",
              "  <thead>\n",
              "    <tr style=\"text-align: right;\">\n",
              "      <th></th>\n",
              "      <th>filename</th>\n",
              "      <th>transactionID</th>\n",
              "      <th>OriginatingRegistry</th>\n",
              "      <th>NumberOfUnits</th>\n",
              "      <th>OriginalPeriodCode</th>\n",
              "      <th>ApplicablePeriodCode</th>\n",
              "      <th>UnitTypeCode</th>\n",
              "      <th>SuppUnitTypeCode</th>\n",
              "      <th>ProjectID</th>\n",
              "      <th>Track</th>\n",
              "    </tr>\n",
              "  </thead>\n",
              "  <tbody>\n",
              "    <tr>\n",
              "      <th>0</th>\n",
              "      <td>./BE/DetailsAll/BE_2014-01-01_2015-01-01_Detai...</td>\n",
              "      <td>EU237235</td>\n",
              "      <td>BR</td>\n",
              "      <td>1095</td>\n",
              "      <td>1</td>\n",
              "      <td>1</td>\n",
              "      <td>5</td>\n",
              "      <td>0</td>\n",
              "      <td>181</td>\n",
              "      <td>NaN</td>\n",
              "    </tr>\n",
              "    <tr>\n",
              "      <th>1</th>\n",
              "      <td>./BE/DetailsAll/BE_2014-01-01_2015-01-01_Detai...</td>\n",
              "      <td>EU237235</td>\n",
              "      <td>BR</td>\n",
              "      <td>87</td>\n",
              "      <td>1</td>\n",
              "      <td>1</td>\n",
              "      <td>5</td>\n",
              "      <td>0</td>\n",
              "      <td>1133</td>\n",
              "      <td>NaN</td>\n",
              "    </tr>\n",
              "    <tr>\n",
              "      <th>2</th>\n",
              "      <td>./BE/DetailsAll/BE_2014-01-01_2015-01-01_Detai...</td>\n",
              "      <td>EU237235</td>\n",
              "      <td>BR</td>\n",
              "      <td>1362</td>\n",
              "      <td>1</td>\n",
              "      <td>1</td>\n",
              "      <td>5</td>\n",
              "      <td>0</td>\n",
              "      <td>181</td>\n",
              "      <td>NaN</td>\n",
              "    </tr>\n",
              "    <tr>\n",
              "      <th>3</th>\n",
              "      <td>./BE/DetailsAll/BE_2014-01-01_2015-01-01_Detai...</td>\n",
              "      <td>EU237235</td>\n",
              "      <td>BR</td>\n",
              "      <td>1362</td>\n",
              "      <td>1</td>\n",
              "      <td>1</td>\n",
              "      <td>5</td>\n",
              "      <td>0</td>\n",
              "      <td>181</td>\n",
              "      <td>NaN</td>\n",
              "    </tr>\n",
              "    <tr>\n",
              "      <th>4</th>\n",
              "      <td>./BE/DetailsAll/BE_2014-01-01_2015-01-01_Detai...</td>\n",
              "      <td>EU237235</td>\n",
              "      <td>CN</td>\n",
              "      <td>25934</td>\n",
              "      <td>1</td>\n",
              "      <td>1</td>\n",
              "      <td>5</td>\n",
              "      <td>0</td>\n",
              "      <td>5296</td>\n",
              "      <td>NaN</td>\n",
              "    </tr>\n",
              "    <tr>\n",
              "      <th>...</th>\n",
              "      <td>...</td>\n",
              "      <td>...</td>\n",
              "      <td>...</td>\n",
              "      <td>...</td>\n",
              "      <td>...</td>\n",
              "      <td>...</td>\n",
              "      <td>...</td>\n",
              "      <td>...</td>\n",
              "      <td>...</td>\n",
              "      <td>...</td>\n",
              "    </tr>\n",
              "    <tr>\n",
              "      <th>2004</th>\n",
              "      <td>./BE/DetailsAll/BE_2014-01-01_2015-01-01_Detai...</td>\n",
              "      <td>EU145639</td>\n",
              "      <td>EU</td>\n",
              "      <td>27354</td>\n",
              "      <td>2</td>\n",
              "      <td>2</td>\n",
              "      <td>0</td>\n",
              "      <td>5</td>\n",
              "      <td>NaN</td>\n",
              "      <td>NaN</td>\n",
              "    </tr>\n",
              "    <tr>\n",
              "      <th>2005</th>\n",
              "      <td>./BE/DetailsAll/BE_2014-01-01_2015-01-01_Detai...</td>\n",
              "      <td>EU145592</td>\n",
              "      <td>EU</td>\n",
              "      <td>396689</td>\n",
              "      <td>2</td>\n",
              "      <td>2</td>\n",
              "      <td>0</td>\n",
              "      <td>5</td>\n",
              "      <td>NaN</td>\n",
              "      <td>NaN</td>\n",
              "    </tr>\n",
              "    <tr>\n",
              "      <th>2006</th>\n",
              "      <td>./BE/DetailsAll/BE_2014-01-01_2015-01-01_Detai...</td>\n",
              "      <td>EU140762</td>\n",
              "      <td>EU</td>\n",
              "      <td>110000</td>\n",
              "      <td>2</td>\n",
              "      <td>2</td>\n",
              "      <td>0</td>\n",
              "      <td>5</td>\n",
              "      <td>NaN</td>\n",
              "      <td>NaN</td>\n",
              "    </tr>\n",
              "    <tr>\n",
              "      <th>2007</th>\n",
              "      <td>./BE/DetailsAll/BE_2014-01-01_2015-01-01_Detai...</td>\n",
              "      <td>EU145547</td>\n",
              "      <td>EU</td>\n",
              "      <td>200000</td>\n",
              "      <td>2</td>\n",
              "      <td>2</td>\n",
              "      <td>0</td>\n",
              "      <td>5</td>\n",
              "      <td>NaN</td>\n",
              "      <td>NaN</td>\n",
              "    </tr>\n",
              "    <tr>\n",
              "      <th>2008</th>\n",
              "      <td>./BE/DetailsAll/BE_2014-01-01_2015-01-01_Detai...</td>\n",
              "      <td>EU145340</td>\n",
              "      <td>PL</td>\n",
              "      <td>1</td>\n",
              "      <td>1</td>\n",
              "      <td>1</td>\n",
              "      <td>3</td>\n",
              "      <td>0</td>\n",
              "      <td>1000055</td>\n",
              "      <td>1</td>\n",
              "    </tr>\n",
              "  </tbody>\n",
              "</table>\n",
              "<p>2009 rows × 10 columns</p>\n",
              "</div>\n",
              "      <button class=\"colab-df-convert\" onclick=\"convertToInteractive('df-eb8e2c53-373c-4c3a-b022-267ca5222627')\"\n",
              "              title=\"Convert this dataframe to an interactive table.\"\n",
              "              style=\"display:none;\">\n",
              "        \n",
              "  <svg xmlns=\"http://www.w3.org/2000/svg\" height=\"24px\"viewBox=\"0 0 24 24\"\n",
              "       width=\"24px\">\n",
              "    <path d=\"M0 0h24v24H0V0z\" fill=\"none\"/>\n",
              "    <path d=\"M18.56 5.44l.94 2.06.94-2.06 2.06-.94-2.06-.94-.94-2.06-.94 2.06-2.06.94zm-11 1L8.5 8.5l.94-2.06 2.06-.94-2.06-.94L8.5 2.5l-.94 2.06-2.06.94zm10 10l.94 2.06.94-2.06 2.06-.94-2.06-.94-.94-2.06-.94 2.06-2.06.94z\"/><path d=\"M17.41 7.96l-1.37-1.37c-.4-.4-.92-.59-1.43-.59-.52 0-1.04.2-1.43.59L10.3 9.45l-7.72 7.72c-.78.78-.78 2.05 0 2.83L4 21.41c.39.39.9.59 1.41.59.51 0 1.02-.2 1.41-.59l7.78-7.78 2.81-2.81c.8-.78.8-2.07 0-2.86zM5.41 20L4 18.59l7.72-7.72 1.47 1.35L5.41 20z\"/>\n",
              "  </svg>\n",
              "      </button>\n",
              "      \n",
              "  <style>\n",
              "    .colab-df-container {\n",
              "      display:flex;\n",
              "      flex-wrap:wrap;\n",
              "      gap: 12px;\n",
              "    }\n",
              "\n",
              "    .colab-df-convert {\n",
              "      background-color: #E8F0FE;\n",
              "      border: none;\n",
              "      border-radius: 50%;\n",
              "      cursor: pointer;\n",
              "      display: none;\n",
              "      fill: #1967D2;\n",
              "      height: 32px;\n",
              "      padding: 0 0 0 0;\n",
              "      width: 32px;\n",
              "    }\n",
              "\n",
              "    .colab-df-convert:hover {\n",
              "      background-color: #E2EBFA;\n",
              "      box-shadow: 0px 1px 2px rgba(60, 64, 67, 0.3), 0px 1px 3px 1px rgba(60, 64, 67, 0.15);\n",
              "      fill: #174EA6;\n",
              "    }\n",
              "\n",
              "    [theme=dark] .colab-df-convert {\n",
              "      background-color: #3B4455;\n",
              "      fill: #D2E3FC;\n",
              "    }\n",
              "\n",
              "    [theme=dark] .colab-df-convert:hover {\n",
              "      background-color: #434B5C;\n",
              "      box-shadow: 0px 1px 3px 1px rgba(0, 0, 0, 0.15);\n",
              "      filter: drop-shadow(0px 1px 2px rgba(0, 0, 0, 0.3));\n",
              "      fill: #FFFFFF;\n",
              "    }\n",
              "  </style>\n",
              "\n",
              "      <script>\n",
              "        const buttonEl =\n",
              "          document.querySelector('#df-eb8e2c53-373c-4c3a-b022-267ca5222627 button.colab-df-convert');\n",
              "        buttonEl.style.display =\n",
              "          google.colab.kernel.accessAllowed ? 'block' : 'none';\n",
              "\n",
              "        async function convertToInteractive(key) {\n",
              "          const element = document.querySelector('#df-eb8e2c53-373c-4c3a-b022-267ca5222627');\n",
              "          const dataTable =\n",
              "            await google.colab.kernel.invokeFunction('convertToInteractive',\n",
              "                                                     [key], {});\n",
              "          if (!dataTable) return;\n",
              "\n",
              "          const docLinkHtml = 'Like what you see? Visit the ' +\n",
              "            '<a target=\"_blank\" href=https://colab.research.google.com/notebooks/data_table.ipynb>data table notebook</a>'\n",
              "            + ' to learn more about interactive tables.';\n",
              "          element.innerHTML = '';\n",
              "          dataTable['output_type'] = 'display_data';\n",
              "          await google.colab.output.renderOutput(dataTable, element);\n",
              "          const docLink = document.createElement('div');\n",
              "          docLink.innerHTML = docLinkHtml;\n",
              "          element.appendChild(docLink);\n",
              "        }\n",
              "      </script>\n",
              "    </div>\n",
              "  </div>\n",
              "  "
            ],
            "text/plain": [
              "                                               filename  ... Track\n",
              "0     ./BE/DetailsAll/BE_2014-01-01_2015-01-01_Detai...  ...   NaN\n",
              "1     ./BE/DetailsAll/BE_2014-01-01_2015-01-01_Detai...  ...   NaN\n",
              "2     ./BE/DetailsAll/BE_2014-01-01_2015-01-01_Detai...  ...   NaN\n",
              "3     ./BE/DetailsAll/BE_2014-01-01_2015-01-01_Detai...  ...   NaN\n",
              "4     ./BE/DetailsAll/BE_2014-01-01_2015-01-01_Detai...  ...   NaN\n",
              "...                                                 ...  ...   ...\n",
              "2004  ./BE/DetailsAll/BE_2014-01-01_2015-01-01_Detai...  ...   NaN\n",
              "2005  ./BE/DetailsAll/BE_2014-01-01_2015-01-01_Detai...  ...   NaN\n",
              "2006  ./BE/DetailsAll/BE_2014-01-01_2015-01-01_Detai...  ...   NaN\n",
              "2007  ./BE/DetailsAll/BE_2014-01-01_2015-01-01_Detai...  ...   NaN\n",
              "2008  ./BE/DetailsAll/BE_2014-01-01_2015-01-01_Detai...  ...     1\n",
              "\n",
              "[2009 rows x 10 columns]"
            ]
          },
          "metadata": {},
          "execution_count": 14
        }
      ]
    },
    {
      "cell_type": "code",
      "source": [
        "transactions"
      ],
      "metadata": {
        "id": "nllpdtmIu7T0"
      },
      "execution_count": null,
      "outputs": []
    },
    {
      "cell_type": "code",
      "source": [
        "blocks.to_csv(\"blocks.csv\")"
      ],
      "metadata": {
        "id": "-0o0LPTJm80T"
      },
      "execution_count": null,
      "outputs": []
    },
    {
      "cell_type": "code",
      "source": [
        "blocks = blocks.reset_index(drop=True)"
      ],
      "metadata": {
        "id": "XgULG7M4m0He"
      },
      "execution_count": null,
      "outputs": []
    },
    {
      "cell_type": "code",
      "source": [
        "notrack = pd.DataFrame(blocks.loc[[0]])\n",
        "notrack.columns = [\"File\",\"Transaction.ID\",\"Registry.Code\",\"Nb.of.Units\",\"Project.ID\",\"Supp.Unit.Type.Code\",\"Original.Period.Code\",\"Applicable.Period.Code\",\"Unit.Type.Code\",\"Extra\"]\n",
        "notrack = notrack.loc[0:,\"File\":\"Unit.Type.Code\"]\n",
        "notrack"
      ],
      "metadata": {
        "id": "5MBl8FebbIef",
        "colab": {
          "base_uri": "https://localhost:8080/"
        },
        "outputId": "bf9dcd51-29da-465e-911e-0de0e77a2cf5"
      },
      "execution_count": null,
      "outputs": [
        {
          "output_type": "execute_result",
          "data": {
            "text/html": [
              "\n",
              "  <div id=\"df-877a9952-3199-4748-8e13-f59df78f5914\">\n",
              "    <div class=\"colab-df-container\">\n",
              "      <div>\n",
              "<style scoped>\n",
              "    .dataframe tbody tr th:only-of-type {\n",
              "        vertical-align: middle;\n",
              "    }\n",
              "\n",
              "    .dataframe tbody tr th {\n",
              "        vertical-align: top;\n",
              "    }\n",
              "\n",
              "    .dataframe thead th {\n",
              "        text-align: right;\n",
              "    }\n",
              "</style>\n",
              "<table border=\"1\" class=\"dataframe\">\n",
              "  <thead>\n",
              "    <tr style=\"text-align: right;\">\n",
              "      <th></th>\n",
              "      <th>File</th>\n",
              "      <th>Transaction.ID</th>\n",
              "      <th>Registry.Code</th>\n",
              "      <th>Nb.of.Units</th>\n",
              "      <th>Project.ID</th>\n",
              "      <th>Supp.Unit.Type.Code</th>\n",
              "      <th>Original.Period.Code</th>\n",
              "      <th>Applicable.Period.Code</th>\n",
              "      <th>Unit.Type.Code</th>\n",
              "    </tr>\n",
              "  </thead>\n",
              "  <tbody>\n",
              "    <tr>\n",
              "      <th>0</th>\n",
              "      <td>./BE/DetailsAll/BE_2014-01-01_2015-01-01_Detai...</td>\n",
              "      <td>EU237235</td>\n",
              "      <td>BR</td>\n",
              "      <td>1095</td>\n",
              "      <td>181</td>\n",
              "      <td>0</td>\n",
              "      <td>1</td>\n",
              "      <td>1</td>\n",
              "      <td>5</td>\n",
              "    </tr>\n",
              "  </tbody>\n",
              "</table>\n",
              "</div>\n",
              "      <button class=\"colab-df-convert\" onclick=\"convertToInteractive('df-877a9952-3199-4748-8e13-f59df78f5914')\"\n",
              "              title=\"Convert this dataframe to an interactive table.\"\n",
              "              style=\"display:none;\">\n",
              "        \n",
              "  <svg xmlns=\"http://www.w3.org/2000/svg\" height=\"24px\"viewBox=\"0 0 24 24\"\n",
              "       width=\"24px\">\n",
              "    <path d=\"M0 0h24v24H0V0z\" fill=\"none\"/>\n",
              "    <path d=\"M18.56 5.44l.94 2.06.94-2.06 2.06-.94-2.06-.94-.94-2.06-.94 2.06-2.06.94zm-11 1L8.5 8.5l.94-2.06 2.06-.94-2.06-.94L8.5 2.5l-.94 2.06-2.06.94zm10 10l.94 2.06.94-2.06 2.06-.94-2.06-.94-.94-2.06-.94 2.06-2.06.94z\"/><path d=\"M17.41 7.96l-1.37-1.37c-.4-.4-.92-.59-1.43-.59-.52 0-1.04.2-1.43.59L10.3 9.45l-7.72 7.72c-.78.78-.78 2.05 0 2.83L4 21.41c.39.39.9.59 1.41.59.51 0 1.02-.2 1.41-.59l7.78-7.78 2.81-2.81c.8-.78.8-2.07 0-2.86zM5.41 20L4 18.59l7.72-7.72 1.47 1.35L5.41 20z\"/>\n",
              "  </svg>\n",
              "      </button>\n",
              "      \n",
              "  <style>\n",
              "    .colab-df-container {\n",
              "      display:flex;\n",
              "      flex-wrap:wrap;\n",
              "      gap: 12px;\n",
              "    }\n",
              "\n",
              "    .colab-df-convert {\n",
              "      background-color: #E8F0FE;\n",
              "      border: none;\n",
              "      border-radius: 50%;\n",
              "      cursor: pointer;\n",
              "      display: none;\n",
              "      fill: #1967D2;\n",
              "      height: 32px;\n",
              "      padding: 0 0 0 0;\n",
              "      width: 32px;\n",
              "    }\n",
              "\n",
              "    .colab-df-convert:hover {\n",
              "      background-color: #E2EBFA;\n",
              "      box-shadow: 0px 1px 2px rgba(60, 64, 67, 0.3), 0px 1px 3px 1px rgba(60, 64, 67, 0.15);\n",
              "      fill: #174EA6;\n",
              "    }\n",
              "\n",
              "    [theme=dark] .colab-df-convert {\n",
              "      background-color: #3B4455;\n",
              "      fill: #D2E3FC;\n",
              "    }\n",
              "\n",
              "    [theme=dark] .colab-df-convert:hover {\n",
              "      background-color: #434B5C;\n",
              "      box-shadow: 0px 1px 3px 1px rgba(0, 0, 0, 0.15);\n",
              "      filter: drop-shadow(0px 1px 2px rgba(0, 0, 0, 0.3));\n",
              "      fill: #FFFFFF;\n",
              "    }\n",
              "  </style>\n",
              "\n",
              "      <script>\n",
              "        const buttonEl =\n",
              "          document.querySelector('#df-877a9952-3199-4748-8e13-f59df78f5914 button.colab-df-convert');\n",
              "        buttonEl.style.display =\n",
              "          google.colab.kernel.accessAllowed ? 'block' : 'none';\n",
              "\n",
              "        async function convertToInteractive(key) {\n",
              "          const element = document.querySelector('#df-877a9952-3199-4748-8e13-f59df78f5914');\n",
              "          const dataTable =\n",
              "            await google.colab.kernel.invokeFunction('convertToInteractive',\n",
              "                                                     [key], {});\n",
              "          if (!dataTable) return;\n",
              "\n",
              "          const docLinkHtml = 'Like what you see? Visit the ' +\n",
              "            '<a target=\"_blank\" href=https://colab.research.google.com/notebooks/data_table.ipynb>data table notebook</a>'\n",
              "            + ' to learn more about interactive tables.';\n",
              "          element.innerHTML = '';\n",
              "          dataTable['output_type'] = 'display_data';\n",
              "          await google.colab.output.renderOutput(dataTable, element);\n",
              "          const docLink = document.createElement('div');\n",
              "          docLink.innerHTML = docLinkHtml;\n",
              "          element.appendChild(docLink);\n",
              "        }\n",
              "      </script>\n",
              "    </div>\n",
              "  </div>\n",
              "  "
            ],
            "text/plain": [
              "                                                File  ... Unit.Type.Code\n",
              "0  ./BE/DetailsAll/BE_2014-01-01_2015-01-01_Detai...  ...              5\n",
              "\n",
              "[1 rows x 9 columns]"
            ]
          },
          "metadata": {},
          "execution_count": 47
        }
      ]
    },
    {
      "cell_type": "code",
      "source": [
        "track = pd.DataFrame(blocks.loc[[22]])\n",
        "track.columns = [\"File\",\"Transaction.ID\",\"Registry.Code\",\"Nb.of.Units\",\"Project.ID\",\"Supp.Unit.Type.Code\",\"Track\",\"Original.Period.Code\",\"Applicable.Period.Code\",\"Unit.Type.Code\"]\n",
        "track"
      ],
      "metadata": {
        "colab": {
          "base_uri": "https://localhost:8080/"
        },
        "id": "mAKC7PYaqXij",
        "outputId": "8f7fedcf-632f-41dd-e098-652461661e4e"
      },
      "execution_count": null,
      "outputs": [
        {
          "output_type": "execute_result",
          "data": {
            "text/html": [
              "\n",
              "  <div id=\"df-d1143c21-b993-4e28-a618-c30fb189ed25\">\n",
              "    <div class=\"colab-df-container\">\n",
              "      <div>\n",
              "<style scoped>\n",
              "    .dataframe tbody tr th:only-of-type {\n",
              "        vertical-align: middle;\n",
              "    }\n",
              "\n",
              "    .dataframe tbody tr th {\n",
              "        vertical-align: top;\n",
              "    }\n",
              "\n",
              "    .dataframe thead th {\n",
              "        text-align: right;\n",
              "    }\n",
              "</style>\n",
              "<table border=\"1\" class=\"dataframe\">\n",
              "  <thead>\n",
              "    <tr style=\"text-align: right;\">\n",
              "      <th></th>\n",
              "      <th>File</th>\n",
              "      <th>Transaction.ID</th>\n",
              "      <th>Registry.Code</th>\n",
              "      <th>Nb.of.Units</th>\n",
              "      <th>Project.ID</th>\n",
              "      <th>Supp.Unit.Type.Code</th>\n",
              "      <th>Track</th>\n",
              "      <th>Original.Period.Code</th>\n",
              "      <th>Applicable.Period.Code</th>\n",
              "      <th>Unit.Type.Code</th>\n",
              "    </tr>\n",
              "  </thead>\n",
              "  <tbody>\n",
              "    <tr>\n",
              "      <th>22</th>\n",
              "      <td>./BE/DetailsAll/BE_2014-01-01_2015-01-01_Detai...</td>\n",
              "      <td>EU236658</td>\n",
              "      <td>DE</td>\n",
              "      <td>4413</td>\n",
              "      <td>1000197</td>\n",
              "      <td>0</td>\n",
              "      <td>1</td>\n",
              "      <td>1</td>\n",
              "      <td>1</td>\n",
              "      <td>3</td>\n",
              "    </tr>\n",
              "  </tbody>\n",
              "</table>\n",
              "</div>\n",
              "      <button class=\"colab-df-convert\" onclick=\"convertToInteractive('df-d1143c21-b993-4e28-a618-c30fb189ed25')\"\n",
              "              title=\"Convert this dataframe to an interactive table.\"\n",
              "              style=\"display:none;\">\n",
              "        \n",
              "  <svg xmlns=\"http://www.w3.org/2000/svg\" height=\"24px\"viewBox=\"0 0 24 24\"\n",
              "       width=\"24px\">\n",
              "    <path d=\"M0 0h24v24H0V0z\" fill=\"none\"/>\n",
              "    <path d=\"M18.56 5.44l.94 2.06.94-2.06 2.06-.94-2.06-.94-.94-2.06-.94 2.06-2.06.94zm-11 1L8.5 8.5l.94-2.06 2.06-.94-2.06-.94L8.5 2.5l-.94 2.06-2.06.94zm10 10l.94 2.06.94-2.06 2.06-.94-2.06-.94-.94-2.06-.94 2.06-2.06.94z\"/><path d=\"M17.41 7.96l-1.37-1.37c-.4-.4-.92-.59-1.43-.59-.52 0-1.04.2-1.43.59L10.3 9.45l-7.72 7.72c-.78.78-.78 2.05 0 2.83L4 21.41c.39.39.9.59 1.41.59.51 0 1.02-.2 1.41-.59l7.78-7.78 2.81-2.81c.8-.78.8-2.07 0-2.86zM5.41 20L4 18.59l7.72-7.72 1.47 1.35L5.41 20z\"/>\n",
              "  </svg>\n",
              "      </button>\n",
              "      \n",
              "  <style>\n",
              "    .colab-df-container {\n",
              "      display:flex;\n",
              "      flex-wrap:wrap;\n",
              "      gap: 12px;\n",
              "    }\n",
              "\n",
              "    .colab-df-convert {\n",
              "      background-color: #E8F0FE;\n",
              "      border: none;\n",
              "      border-radius: 50%;\n",
              "      cursor: pointer;\n",
              "      display: none;\n",
              "      fill: #1967D2;\n",
              "      height: 32px;\n",
              "      padding: 0 0 0 0;\n",
              "      width: 32px;\n",
              "    }\n",
              "\n",
              "    .colab-df-convert:hover {\n",
              "      background-color: #E2EBFA;\n",
              "      box-shadow: 0px 1px 2px rgba(60, 64, 67, 0.3), 0px 1px 3px 1px rgba(60, 64, 67, 0.15);\n",
              "      fill: #174EA6;\n",
              "    }\n",
              "\n",
              "    [theme=dark] .colab-df-convert {\n",
              "      background-color: #3B4455;\n",
              "      fill: #D2E3FC;\n",
              "    }\n",
              "\n",
              "    [theme=dark] .colab-df-convert:hover {\n",
              "      background-color: #434B5C;\n",
              "      box-shadow: 0px 1px 3px 1px rgba(0, 0, 0, 0.15);\n",
              "      filter: drop-shadow(0px 1px 2px rgba(0, 0, 0, 0.3));\n",
              "      fill: #FFFFFF;\n",
              "    }\n",
              "  </style>\n",
              "\n",
              "      <script>\n",
              "        const buttonEl =\n",
              "          document.querySelector('#df-d1143c21-b993-4e28-a618-c30fb189ed25 button.colab-df-convert');\n",
              "        buttonEl.style.display =\n",
              "          google.colab.kernel.accessAllowed ? 'block' : 'none';\n",
              "\n",
              "        async function convertToInteractive(key) {\n",
              "          const element = document.querySelector('#df-d1143c21-b993-4e28-a618-c30fb189ed25');\n",
              "          const dataTable =\n",
              "            await google.colab.kernel.invokeFunction('convertToInteractive',\n",
              "                                                     [key], {});\n",
              "          if (!dataTable) return;\n",
              "\n",
              "          const docLinkHtml = 'Like what you see? Visit the ' +\n",
              "            '<a target=\"_blank\" href=https://colab.research.google.com/notebooks/data_table.ipynb>data table notebook</a>'\n",
              "            + ' to learn more about interactive tables.';\n",
              "          element.innerHTML = '';\n",
              "          dataTable['output_type'] = 'display_data';\n",
              "          await google.colab.output.renderOutput(dataTable, element);\n",
              "          const docLink = document.createElement('div');\n",
              "          docLink.innerHTML = docLinkHtml;\n",
              "          element.appendChild(docLink);\n",
              "        }\n",
              "      </script>\n",
              "    </div>\n",
              "  </div>\n",
              "  "
            ],
            "text/plain": [
              "                                                 File  ... Unit.Type.Code\n",
              "22  ./BE/DetailsAll/BE_2014-01-01_2015-01-01_Detai...  ...              3\n",
              "\n",
              "[1 rows x 10 columns]"
            ]
          },
          "metadata": {},
          "execution_count": 35
        }
      ]
    },
    {
      "cell_type": "markdown",
      "source": [
        "https://www.statology.org/rbind-in-python/"
      ],
      "metadata": {
        "id": "2wzc3eudsNLk"
      }
    },
    {
      "cell_type": "code",
      "source": [
        "pd.concat([notrack,track]).reset_index(drop=True)"
      ],
      "metadata": {
        "colab": {
          "base_uri": "https://localhost:8080/"
        },
        "id": "hx6xFphyrV14",
        "outputId": "b64bb640-f2e8-4d13-8d70-6538b3ddafd1"
      },
      "execution_count": null,
      "outputs": [
        {
          "output_type": "execute_result",
          "data": {
            "text/html": [
              "\n",
              "  <div id=\"df-cd05513b-267c-46fc-af19-636b431aaa2c\">\n",
              "    <div class=\"colab-df-container\">\n",
              "      <div>\n",
              "<style scoped>\n",
              "    .dataframe tbody tr th:only-of-type {\n",
              "        vertical-align: middle;\n",
              "    }\n",
              "\n",
              "    .dataframe tbody tr th {\n",
              "        vertical-align: top;\n",
              "    }\n",
              "\n",
              "    .dataframe thead th {\n",
              "        text-align: right;\n",
              "    }\n",
              "</style>\n",
              "<table border=\"1\" class=\"dataframe\">\n",
              "  <thead>\n",
              "    <tr style=\"text-align: right;\">\n",
              "      <th></th>\n",
              "      <th>File</th>\n",
              "      <th>Transaction.ID</th>\n",
              "      <th>Registry.Code</th>\n",
              "      <th>Nb.of.Units</th>\n",
              "      <th>Project.ID</th>\n",
              "      <th>Supp.Unit.Type.Code</th>\n",
              "      <th>Original.Period.Code</th>\n",
              "      <th>Applicable.Period.Code</th>\n",
              "      <th>Unit.Type.Code</th>\n",
              "      <th>Track</th>\n",
              "    </tr>\n",
              "  </thead>\n",
              "  <tbody>\n",
              "    <tr>\n",
              "      <th>0</th>\n",
              "      <td>./BE/DetailsAll/BE_2014-01-01_2015-01-01_Detai...</td>\n",
              "      <td>EU237235</td>\n",
              "      <td>BR</td>\n",
              "      <td>1095</td>\n",
              "      <td>181</td>\n",
              "      <td>0</td>\n",
              "      <td>1</td>\n",
              "      <td>1</td>\n",
              "      <td>5</td>\n",
              "      <td>NaN</td>\n",
              "    </tr>\n",
              "    <tr>\n",
              "      <th>1</th>\n",
              "      <td>./BE/DetailsAll/BE_2014-01-01_2015-01-01_Detai...</td>\n",
              "      <td>EU236658</td>\n",
              "      <td>DE</td>\n",
              "      <td>4413</td>\n",
              "      <td>1000197</td>\n",
              "      <td>0</td>\n",
              "      <td>1</td>\n",
              "      <td>1</td>\n",
              "      <td>3</td>\n",
              "      <td>1</td>\n",
              "    </tr>\n",
              "  </tbody>\n",
              "</table>\n",
              "</div>\n",
              "      <button class=\"colab-df-convert\" onclick=\"convertToInteractive('df-cd05513b-267c-46fc-af19-636b431aaa2c')\"\n",
              "              title=\"Convert this dataframe to an interactive table.\"\n",
              "              style=\"display:none;\">\n",
              "        \n",
              "  <svg xmlns=\"http://www.w3.org/2000/svg\" height=\"24px\"viewBox=\"0 0 24 24\"\n",
              "       width=\"24px\">\n",
              "    <path d=\"M0 0h24v24H0V0z\" fill=\"none\"/>\n",
              "    <path d=\"M18.56 5.44l.94 2.06.94-2.06 2.06-.94-2.06-.94-.94-2.06-.94 2.06-2.06.94zm-11 1L8.5 8.5l.94-2.06 2.06-.94-2.06-.94L8.5 2.5l-.94 2.06-2.06.94zm10 10l.94 2.06.94-2.06 2.06-.94-2.06-.94-.94-2.06-.94 2.06-2.06.94z\"/><path d=\"M17.41 7.96l-1.37-1.37c-.4-.4-.92-.59-1.43-.59-.52 0-1.04.2-1.43.59L10.3 9.45l-7.72 7.72c-.78.78-.78 2.05 0 2.83L4 21.41c.39.39.9.59 1.41.59.51 0 1.02-.2 1.41-.59l7.78-7.78 2.81-2.81c.8-.78.8-2.07 0-2.86zM5.41 20L4 18.59l7.72-7.72 1.47 1.35L5.41 20z\"/>\n",
              "  </svg>\n",
              "      </button>\n",
              "      \n",
              "  <style>\n",
              "    .colab-df-container {\n",
              "      display:flex;\n",
              "      flex-wrap:wrap;\n",
              "      gap: 12px;\n",
              "    }\n",
              "\n",
              "    .colab-df-convert {\n",
              "      background-color: #E8F0FE;\n",
              "      border: none;\n",
              "      border-radius: 50%;\n",
              "      cursor: pointer;\n",
              "      display: none;\n",
              "      fill: #1967D2;\n",
              "      height: 32px;\n",
              "      padding: 0 0 0 0;\n",
              "      width: 32px;\n",
              "    }\n",
              "\n",
              "    .colab-df-convert:hover {\n",
              "      background-color: #E2EBFA;\n",
              "      box-shadow: 0px 1px 2px rgba(60, 64, 67, 0.3), 0px 1px 3px 1px rgba(60, 64, 67, 0.15);\n",
              "      fill: #174EA6;\n",
              "    }\n",
              "\n",
              "    [theme=dark] .colab-df-convert {\n",
              "      background-color: #3B4455;\n",
              "      fill: #D2E3FC;\n",
              "    }\n",
              "\n",
              "    [theme=dark] .colab-df-convert:hover {\n",
              "      background-color: #434B5C;\n",
              "      box-shadow: 0px 1px 3px 1px rgba(0, 0, 0, 0.15);\n",
              "      filter: drop-shadow(0px 1px 2px rgba(0, 0, 0, 0.3));\n",
              "      fill: #FFFFFF;\n",
              "    }\n",
              "  </style>\n",
              "\n",
              "      <script>\n",
              "        const buttonEl =\n",
              "          document.querySelector('#df-cd05513b-267c-46fc-af19-636b431aaa2c button.colab-df-convert');\n",
              "        buttonEl.style.display =\n",
              "          google.colab.kernel.accessAllowed ? 'block' : 'none';\n",
              "\n",
              "        async function convertToInteractive(key) {\n",
              "          const element = document.querySelector('#df-cd05513b-267c-46fc-af19-636b431aaa2c');\n",
              "          const dataTable =\n",
              "            await google.colab.kernel.invokeFunction('convertToInteractive',\n",
              "                                                     [key], {});\n",
              "          if (!dataTable) return;\n",
              "\n",
              "          const docLinkHtml = 'Like what you see? Visit the ' +\n",
              "            '<a target=\"_blank\" href=https://colab.research.google.com/notebooks/data_table.ipynb>data table notebook</a>'\n",
              "            + ' to learn more about interactive tables.';\n",
              "          element.innerHTML = '';\n",
              "          dataTable['output_type'] = 'display_data';\n",
              "          await google.colab.output.renderOutput(dataTable, element);\n",
              "          const docLink = document.createElement('div');\n",
              "          docLink.innerHTML = docLinkHtml;\n",
              "          element.appendChild(docLink);\n",
              "        }\n",
              "      </script>\n",
              "    </div>\n",
              "  </div>\n",
              "  "
            ],
            "text/plain": [
              "                                                File  ... Track\n",
              "0  ./BE/DetailsAll/BE_2014-01-01_2015-01-01_Detai...  ...   NaN\n",
              "1  ./BE/DetailsAll/BE_2014-01-01_2015-01-01_Detai...  ...     1\n",
              "\n",
              "[2 rows x 10 columns]"
            ]
          },
          "metadata": {},
          "execution_count": 52
        }
      ]
    }
  ]
}
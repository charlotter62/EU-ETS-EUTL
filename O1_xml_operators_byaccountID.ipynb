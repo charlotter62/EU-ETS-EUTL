{
  "nbformat": 4,
  "nbformat_minor": 0,
  "metadata": {
    "colab": {
      "provenance": [],
      "machine_shape": "hm",
      "authorship_tag": "ABX9TyPlv36Pto4GoPyeIfGecFKd",
      "include_colab_link": true
    },
    "kernelspec": {
      "name": "python3",
      "display_name": "Python 3"
    },
    "language_info": {
      "name": "python"
    }
  },
  "cells": [
    {
      "cell_type": "markdown",
      "metadata": {
        "id": "view-in-github",
        "colab_type": "text"
      },
      "source": [
        "<a href=\"https://colab.research.google.com/github/charlotter62/EU-ETS-EUTL/blob/main/O1_xml_operators_byaccountID.ipynb\" target=\"_parent\"><img src=\"https://colab.research.google.com/assets/colab-badge.svg\" alt=\"Open In Colab\"/></a>"
      ]
    },
    {
      "cell_type": "code",
      "source": [
        "from google.colab import drive\n",
        "drive.mount('/gdrive')"
      ],
      "metadata": {
        "colab": {
          "base_uri": "https://localhost:8080/"
        },
        "id": "f2pyGCJW-CSy",
        "outputId": "bb9642a1-b1b3-4275-b6d3-443dfb75b259"
      },
      "execution_count": null,
      "outputs": [
        {
          "output_type": "stream",
          "name": "stdout",
          "text": [
            "Drive already mounted at /gdrive; to attempt to forcibly remount, call drive.mount(\"/gdrive\", force_remount=True).\n"
          ]
        }
      ]
    },
    {
      "cell_type": "code",
      "execution_count": null,
      "metadata": {
        "id": "zi_bWuIW9xKM"
      },
      "outputs": [],
      "source": [
        "import pandas as pd"
      ]
    },
    {
      "cell_type": "code",
      "source": [
        "!pip install wget\n",
        "import wget"
      ],
      "metadata": {
        "colab": {
          "base_uri": "https://localhost:8080/"
        },
        "id": "pYAu80I5-GmX",
        "outputId": "87bad23f-2695-4baa-b1df-5374d6358077"
      },
      "execution_count": null,
      "outputs": [
        {
          "output_type": "stream",
          "name": "stdout",
          "text": [
            "Requirement already satisfied: wget in /usr/local/lib/python3.7/dist-packages (3.2)\n"
          ]
        }
      ]
    },
    {
      "cell_type": "code",
      "source": [
        "import requests\n",
        "from bs4 import BeautifulSoup\n",
        "import time\n",
        "import pandas as pd\n",
        "import os\n",
        "from socket import error as SocketError\n",
        "import errno"
      ],
      "metadata": {
        "id": "Adi13HDsCaLw"
      },
      "execution_count": null,
      "outputs": []
    },
    {
      "cell_type": "code",
      "source": [
        "def isXML(filepath):\n",
        "  f = open(filepath, \"r\")\n",
        "  xml=False\n",
        "  if \"<?xml\" in f.readline():\n",
        "    xml=True\n",
        "  return(xml)"
      ],
      "metadata": {
        "id": "GA4sv1lXBOMO"
      },
      "execution_count": null,
      "outputs": []
    },
    {
      "cell_type": "code",
      "source": [
        "def patientDownload(link,savename):\n",
        "  success=0\n",
        "  while(success!=1):\n",
        "    try:\n",
        "      wget.download(link,savename)\n",
        "      if(isXML(savename)):\n",
        "        success=1\n",
        "      else:\n",
        "        print(\"Download failed not XML, attempting again\")\n",
        "        os.remove(savename)\n",
        "        time.sleep(10)\n",
        "    except SocketError as e:\n",
        "      if e.errno != errno.ECONNRESET:\n",
        "          raise # Not error we are looking for\n",
        "      print(\"Download failed on server, attempting again\")\n",
        "      time.sleep(10)\n",
        "    # except ConnectionResetError as e:\n",
        "    #   print(\"Download failed on server, attempting again\")\n",
        "    #   time.sleep(10)"
      ],
      "metadata": {
        "id": "95hLzrv6BLx4"
      },
      "execution_count": null,
      "outputs": []
    },
    {
      "cell_type": "code",
      "source": [
        "def checkDownloadError(link):\n",
        "  page = requests.get(link)\n",
        "  soup = BeautifulSoup(page.content, \"html.parser\")\n",
        "  error = soup.find(\"pre\", {\"class\":\"errortext\"})\n",
        "  if error:\n",
        "    error=error.string\n",
        "  else:\n",
        "    error=\"No error\"\n",
        "  return(error)"
      ],
      "metadata": {
        "id": "rV04dNPPsiES"
      },
      "execution_count": null,
      "outputs": []
    },
    {
      "cell_type": "code",
      "source": [
        "def getXMLbyAccountID(id,regcode):\n",
        "  savename = workingdir+\"XML files/\"+ regcode+\"_\"+str(id)+\"_operator.xml\"\n",
        "  if(os.path.exists(savename)):\n",
        "    print(\"File already exists! \" + savename)\n",
        "  else:\n",
        "    #link = \"https://ec.europa.eu/clima/ets/exportEntry.do?form=ohaDetails&installationName=&permitIdentifier=&searchType=&mainActivityType=&accountType=&selectedPeriods=&complianceStatus=&languageCode=en&account.registryCode=\"+regcode+\"&accountStatus=&accountID=\"+str(id)+\"&accountHolder=&registryCode=\"+regcode+\"&installationIdentifier=&action=all&primaryAuthRep=&identifierInReg=&returnURL=installationName%3D%26accountHolder%3D%26search%3DSearch%26permitIdentifier%3D%26form%3Doha%26searchType%3Doha%26mainActivityType%3D-1%26currentSortSettings%3D%26installationIdentifier%3D%26languageCode%3Den&buttonAction=\"+\"&exportType=1&exportAction=accountAll&exportOK=exportOK\"\n",
        "    link = \"https://ec.europa.eu/clima/ets/exportEntry.do?form=ohaDetails&installationName=&permitIdentifier=&searchType=&mainActivityType=&accountType=&selectedPeriods=&complianceStatus=&languageCode=en&account.registryCode=\"+regcode+\"&accountStatus=&accountID=\"+str(id)+\"&accountHolder=&registryCode=\"+regcode+\"&installationIdentifier=&action=all&primaryAuthRep=&identifierInReg=&returnURL=installationName%3D%26accountHolder%3D%26search%3DSearch%26permitIdentifier%3D%26form%3Doha%26searchType%3Doha%26mainActivityType%3D-1%26currentSortSettings%3D%26installationIdentifier%3D%26languageCode%3Den&buttonAction=\"+\"&exportType=1&exportAction=accountAll&exportOK=exportOK\"\n",
        "    print(link)\n",
        "    if(\"No results found\" in checkDownloadError(link)):\n",
        "      print(\"Not operator account!\")\n",
        "    else:\n",
        "      print(\"Downloading...\" + savename)\n",
        "      patientDownload(link,savename)"
      ],
      "metadata": {
        "id": "BROGvBxUBWmv"
      },
      "execution_count": null,
      "outputs": []
    },
    {
      "cell_type": "markdown",
      "source": [
        "Single test..."
      ],
      "metadata": {
        "id": "UbBU7luXFPG3"
      }
    },
    {
      "cell_type": "code",
      "source": [
        "workingdir = \"/gdrive/MyDrive/Brookings/XML_downloads/xml-operators-byaccountID/\"\n",
        "ID = int(101987)\n",
        "getXMLbyAccountID(ID,\"NO\")"
      ],
      "metadata": {
        "colab": {
          "base_uri": "https://localhost:8080/"
        },
        "id": "IpdleoBRjSvp",
        "outputId": "36fb92fe-9db3-460f-8c23-40a3c455cb8e"
      },
      "execution_count": null,
      "outputs": [
        {
          "output_type": "stream",
          "name": "stdout",
          "text": [
            "Downloading.../gdrive/MyDrive/Brookings/XML_downloads/xml-operators-byaccountID/XML files/NO_101987_operator.xml\n",
            "https://ec.europa.eu/clima/ets/exportEntry.do?form=ohaDetails&installationName=&permitIdentifier=&searchType=&mainActivityType=&accountType=&selectedPeriods=&complianceStatus=&languageCode=en&account.registryCode=NO&accountStatus=&accountID=101987&accountHolder=&registryCode=NO&installationIdentifier=&action=all&primaryAuthRep=&identifierInReg=&returnURL=installationName%3D%26accountHolder%3D%26search%3DSearch%26permitIdentifier%3D%26form%3Doha%26searchType%3Doha%26mainActivityType%3D-1%26currentSortSettings%3D%26installationIdentifier%3D%26languageCode%3Den&buttonAction=&exportType=1&exportAction=accountAll&exportOK=exportOK\n"
          ]
        }
      ]
    },
    {
      "cell_type": "code",
      "source": [
        "workingdir = \"/gdrive/MyDrive/Brookings/XML_downloads/xml-operators-byaccountID/\"\n",
        "ID = int(6206)\n",
        "getXMLbyAccountID(ID,\"AT\")"
      ],
      "metadata": {
        "colab": {
          "base_uri": "https://localhost:8080/"
        },
        "id": "DIdjuGhTsNk4",
        "outputId": "e67ba1d5-37cb-4042-fc45-f1996b6e92a8"
      },
      "execution_count": null,
      "outputs": [
        {
          "output_type": "stream",
          "name": "stdout",
          "text": [
            "Downloading.../gdrive/MyDrive/Brookings/XML_downloads/xml-operators-byaccountID/XML files/AT_6206_operator.xml\n",
            "https://ec.europa.eu/clima/ets/exportEntry.do?form=ohaDetails&installationName=&permitIdentifier=&searchType=&mainActivityType=&accountType=&selectedPeriods=&complianceStatus=&languageCode=en&account.registryCode=AT&accountStatus=&accountID=6206&accountHolder=&registryCode=AT&installationIdentifier=&action=all&primaryAuthRep=&identifierInReg=&returnURL=installationName%3D%26accountHolder%3D%26search%3DSearch%26permitIdentifier%3D%26form%3Doha%26searchType%3Doha%26mainActivityType%3D-1%26currentSortSettings%3D%26installationIdentifier%3D%26languageCode%3Den&buttonAction=&exportType=1&exportAction=accountAll&exportOK=exportOK\n",
            "Not operator account!\n"
          ]
        }
      ]
    },
    {
      "cell_type": "markdown",
      "source": [
        "Download all in loop..."
      ],
      "metadata": {
        "id": "qtLlE-d2B7g4"
      }
    },
    {
      "cell_type": "code",
      "source": [
        "workingdir = \"/gdrive/MyDrive/Brookings/XML_downloads/xml-operators-byaccountID/\"\n",
        "accounts = pd.read_csv(workingdir + \"all_AccountIDs_Regcodes.csv\")\n",
        "accounts"
      ],
      "metadata": {
        "colab": {
          "base_uri": "https://localhost:8080/",
          "height": 424
        },
        "id": "h1--yJvt-pcW",
        "outputId": "fccb233b-f64c-4a30-b2db-41c3a143828f"
      },
      "execution_count": null,
      "outputs": [
        {
          "output_type": "execute_result",
          "data": {
            "text/html": [
              "\n",
              "  <div id=\"df-a4806366-e159-497b-9afd-4eff965132dc\">\n",
              "    <div class=\"colab-df-container\">\n",
              "      <div>\n",
              "<style scoped>\n",
              "    .dataframe tbody tr th:only-of-type {\n",
              "        vertical-align: middle;\n",
              "    }\n",
              "\n",
              "    .dataframe tbody tr th {\n",
              "        vertical-align: top;\n",
              "    }\n",
              "\n",
              "    .dataframe thead th {\n",
              "        text-align: right;\n",
              "    }\n",
              "</style>\n",
              "<table border=\"1\" class=\"dataframe\">\n",
              "  <thead>\n",
              "    <tr style=\"text-align: right;\">\n",
              "      <th></th>\n",
              "      <th>Account.ID</th>\n",
              "      <th>Registry.Code</th>\n",
              "    </tr>\n",
              "  </thead>\n",
              "  <tbody>\n",
              "    <tr>\n",
              "      <th>0</th>\n",
              "      <td>6206</td>\n",
              "      <td>AT</td>\n",
              "    </tr>\n",
              "    <tr>\n",
              "      <th>1</th>\n",
              "      <td>7412</td>\n",
              "      <td>AT</td>\n",
              "    </tr>\n",
              "    <tr>\n",
              "      <th>2</th>\n",
              "      <td>6337</td>\n",
              "      <td>AT</td>\n",
              "    </tr>\n",
              "    <tr>\n",
              "      <th>3</th>\n",
              "      <td>13396</td>\n",
              "      <td>IT</td>\n",
              "    </tr>\n",
              "    <tr>\n",
              "      <th>4</th>\n",
              "      <td>13397</td>\n",
              "      <td>IT</td>\n",
              "    </tr>\n",
              "    <tr>\n",
              "      <th>...</th>\n",
              "      <td>...</td>\n",
              "      <td>...</td>\n",
              "    </tr>\n",
              "    <tr>\n",
              "      <th>33044</th>\n",
              "      <td>25120</td>\n",
              "      <td>SE</td>\n",
              "    </tr>\n",
              "    <tr>\n",
              "      <th>33045</th>\n",
              "      <td>74418</td>\n",
              "      <td>SI</td>\n",
              "    </tr>\n",
              "    <tr>\n",
              "      <th>33046</th>\n",
              "      <td>64364</td>\n",
              "      <td>SI</td>\n",
              "    </tr>\n",
              "    <tr>\n",
              "      <th>33047</th>\n",
              "      <td>65524</td>\n",
              "      <td>SI</td>\n",
              "    </tr>\n",
              "    <tr>\n",
              "      <th>33048</th>\n",
              "      <td>90005</td>\n",
              "      <td>SI</td>\n",
              "    </tr>\n",
              "  </tbody>\n",
              "</table>\n",
              "<p>33049 rows × 2 columns</p>\n",
              "</div>\n",
              "      <button class=\"colab-df-convert\" onclick=\"convertToInteractive('df-a4806366-e159-497b-9afd-4eff965132dc')\"\n",
              "              title=\"Convert this dataframe to an interactive table.\"\n",
              "              style=\"display:none;\">\n",
              "        \n",
              "  <svg xmlns=\"http://www.w3.org/2000/svg\" height=\"24px\"viewBox=\"0 0 24 24\"\n",
              "       width=\"24px\">\n",
              "    <path d=\"M0 0h24v24H0V0z\" fill=\"none\"/>\n",
              "    <path d=\"M18.56 5.44l.94 2.06.94-2.06 2.06-.94-2.06-.94-.94-2.06-.94 2.06-2.06.94zm-11 1L8.5 8.5l.94-2.06 2.06-.94-2.06-.94L8.5 2.5l-.94 2.06-2.06.94zm10 10l.94 2.06.94-2.06 2.06-.94-2.06-.94-.94-2.06-.94 2.06-2.06.94z\"/><path d=\"M17.41 7.96l-1.37-1.37c-.4-.4-.92-.59-1.43-.59-.52 0-1.04.2-1.43.59L10.3 9.45l-7.72 7.72c-.78.78-.78 2.05 0 2.83L4 21.41c.39.39.9.59 1.41.59.51 0 1.02-.2 1.41-.59l7.78-7.78 2.81-2.81c.8-.78.8-2.07 0-2.86zM5.41 20L4 18.59l7.72-7.72 1.47 1.35L5.41 20z\"/>\n",
              "  </svg>\n",
              "      </button>\n",
              "      \n",
              "  <style>\n",
              "    .colab-df-container {\n",
              "      display:flex;\n",
              "      flex-wrap:wrap;\n",
              "      gap: 12px;\n",
              "    }\n",
              "\n",
              "    .colab-df-convert {\n",
              "      background-color: #E8F0FE;\n",
              "      border: none;\n",
              "      border-radius: 50%;\n",
              "      cursor: pointer;\n",
              "      display: none;\n",
              "      fill: #1967D2;\n",
              "      height: 32px;\n",
              "      padding: 0 0 0 0;\n",
              "      width: 32px;\n",
              "    }\n",
              "\n",
              "    .colab-df-convert:hover {\n",
              "      background-color: #E2EBFA;\n",
              "      box-shadow: 0px 1px 2px rgba(60, 64, 67, 0.3), 0px 1px 3px 1px rgba(60, 64, 67, 0.15);\n",
              "      fill: #174EA6;\n",
              "    }\n",
              "\n",
              "    [theme=dark] .colab-df-convert {\n",
              "      background-color: #3B4455;\n",
              "      fill: #D2E3FC;\n",
              "    }\n",
              "\n",
              "    [theme=dark] .colab-df-convert:hover {\n",
              "      background-color: #434B5C;\n",
              "      box-shadow: 0px 1px 3px 1px rgba(0, 0, 0, 0.15);\n",
              "      filter: drop-shadow(0px 1px 2px rgba(0, 0, 0, 0.3));\n",
              "      fill: #FFFFFF;\n",
              "    }\n",
              "  </style>\n",
              "\n",
              "      <script>\n",
              "        const buttonEl =\n",
              "          document.querySelector('#df-a4806366-e159-497b-9afd-4eff965132dc button.colab-df-convert');\n",
              "        buttonEl.style.display =\n",
              "          google.colab.kernel.accessAllowed ? 'block' : 'none';\n",
              "\n",
              "        async function convertToInteractive(key) {\n",
              "          const element = document.querySelector('#df-a4806366-e159-497b-9afd-4eff965132dc');\n",
              "          const dataTable =\n",
              "            await google.colab.kernel.invokeFunction('convertToInteractive',\n",
              "                                                     [key], {});\n",
              "          if (!dataTable) return;\n",
              "\n",
              "          const docLinkHtml = 'Like what you see? Visit the ' +\n",
              "            '<a target=\"_blank\" href=https://colab.research.google.com/notebooks/data_table.ipynb>data table notebook</a>'\n",
              "            + ' to learn more about interactive tables.';\n",
              "          element.innerHTML = '';\n",
              "          dataTable['output_type'] = 'display_data';\n",
              "          await google.colab.output.renderOutput(dataTable, element);\n",
              "          const docLink = document.createElement('div');\n",
              "          docLink.innerHTML = docLinkHtml;\n",
              "          element.appendChild(docLink);\n",
              "        }\n",
              "      </script>\n",
              "    </div>\n",
              "  </div>\n",
              "  "
            ],
            "text/plain": [
              "       Account.ID Registry.Code\n",
              "0            6206            AT\n",
              "1            7412            AT\n",
              "2            6337            AT\n",
              "3           13396            IT\n",
              "4           13397            IT\n",
              "...           ...           ...\n",
              "33044       25120            SE\n",
              "33045       74418            SI\n",
              "33046       64364            SI\n",
              "33047       65524            SI\n",
              "33048       90005            SI\n",
              "\n",
              "[33049 rows x 2 columns]"
            ]
          },
          "metadata": {},
          "execution_count": 48
        }
      ]
    },
    {
      "cell_type": "code",
      "source": [
        "for i in range(0,len(accounts)):\n",
        "# for i in range(0,len(accounts)):\n",
        "  ID = int(accounts.loc[i,\"Account.ID\"])\n",
        "  Reg = accounts.loc[i,\"Registry.Code\"]\n",
        "  print(Reg+str(ID))\n",
        "  try:\n",
        "    getXMLbyAccountID(ID,Reg)\n",
        "  except Exception as e:\n",
        "    time.sleep(30)\n",
        "    print(\"General exception, waiting 30 seconds\")\n",
        "    getXMLbyAccountID(ID,Reg)"
      ],
      "metadata": {
        "id": "KolRKoM3APVH"
      },
      "execution_count": null,
      "outputs": []
    },
    {
      "cell_type": "markdown",
      "source": [
        "Should run again in case those that failed on server did not get downloaded the second time. It should go quickly and just spit out \"File already exists!\""
      ],
      "metadata": {
        "id": "4-Nlpqxh232X"
      }
    }
  ]
}
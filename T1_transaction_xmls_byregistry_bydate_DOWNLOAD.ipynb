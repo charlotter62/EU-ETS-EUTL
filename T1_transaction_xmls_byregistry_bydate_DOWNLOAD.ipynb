{
  "nbformat": 4,
  "nbformat_minor": 0,
  "metadata": {
    "colab": {
      "provenance": [],
      "authorship_tag": "ABX9TyMjt/G4wcZdB/YsVaaKaeLK",
      "include_colab_link": true
    },
    "kernelspec": {
      "name": "python3",
      "display_name": "Python 3"
    },
    "language_info": {
      "name": "python"
    }
  },
  "cells": [
    {
      "cell_type": "markdown",
      "metadata": {
        "id": "view-in-github",
        "colab_type": "text"
      },
      "source": [
        "<a href=\"https://colab.research.google.com/github/charlotter62/EU-ETS-EUTL/blob/main/T1_transaction_xmls_byregistry_bydate_DOWNLOAD.ipynb\" target=\"_parent\"><img src=\"https://colab.research.google.com/assets/colab-badge.svg\" alt=\"Open In Colab\"/></a>"
      ]
    },
    {
      "cell_type": "markdown",
      "source": [
        "# Downloading Transactions XML files\n",
        "\n",
        "\n",
        "---\n",
        "\n",
        "\n",
        "**Description**:\n",
        "\n",
        "The following code downloads XML files from the [European Union Transaction Log](https://ec.europa.eu/clima/ets/transaction.do). The files are downloaded and organized by registry and type of file:\n",
        "* The DetailsAll.xml files are downloaded with the \"DetailsAll\" button at the bottom of the search results.\n",
        "* The TransactionsBasic.xml files are downloaded with the \"Export\" button.\n",
        "\n",
        "The following script parses the data from XML format to combined csv files:\n",
        "[xml-byregistry-bydate_Parse_XML.ipynb](https://colab.research.google.com/drive/1oJL9WKQtElhPaD1bn4wGke2FhaqkACFJ?usp=sharing)\n",
        "\n",
        "**Author**: Charlotte Rivard\n",
        "**Contact**: 15crivard@gmail.com\n",
        "**Date**: 1/13/2022\n",
        "\n",
        "*Please reach out with questions and coauthorship considerations if using this script for publications*\n",
        "\n",
        "---"
      ],
      "metadata": {
        "id": "AvRjCU6_QmlT"
      }
    },
    {
      "cell_type": "code",
      "execution_count": null,
      "metadata": {
        "colab": {
          "base_uri": "https://localhost:8080/"
        },
        "id": "dOG3QbO3QxXC",
        "outputId": "c2ced64f-0931-4233-b98c-0b7d9c12157d"
      },
      "outputs": [
        {
          "output_type": "stream",
          "name": "stdout",
          "text": [
            "Drive already mounted at /gdrive; to attempt to forcibly remount, call drive.mount(\"/gdrive\", force_remount=True).\n"
          ]
        }
      ],
      "source": [
        "from google.colab import drive\n",
        "drive.mount('/gdrive')"
      ]
    },
    {
      "cell_type": "code",
      "source": [
        "!pip install wget\n",
        "import wget"
      ],
      "metadata": {
        "colab": {
          "base_uri": "https://localhost:8080/"
        },
        "id": "GpGkpKTbQz39",
        "outputId": "f5105bdb-7f0e-4c38-b11d-412c9d52826c"
      },
      "execution_count": null,
      "outputs": [
        {
          "output_type": "stream",
          "name": "stdout",
          "text": [
            "Requirement already satisfied: wget in /usr/local/lib/python3.7/dist-packages (3.2)\n"
          ]
        }
      ]
    },
    {
      "cell_type": "code",
      "source": [
        "import requests\n",
        "from bs4 import BeautifulSoup\n",
        "import time\n",
        "import pandas as pd\n",
        "import os\n",
        "from socket import error as SocketError\n",
        "import errno"
      ],
      "metadata": {
        "id": "LFVqG5miQ1HI"
      },
      "execution_count": null,
      "outputs": []
    },
    {
      "cell_type": "markdown",
      "source": [
        "Function to create a folder if it does not exist"
      ],
      "metadata": {
        "id": "objOX5QhR57F"
      }
    },
    {
      "cell_type": "code",
      "source": [
        "def createFolder(folder):\n",
        "  if not os.path.isdir(folder):\n",
        "    os.makedirs(folder)\n",
        "    print(\"created folder : \", folder)"
      ],
      "metadata": {
        "id": "XAL0_dfbR5J4"
      },
      "execution_count": null,
      "outputs": []
    },
    {
      "cell_type": "markdown",
      "source": [
        "Function to check whether the XML can be downloaded"
      ],
      "metadata": {
        "id": "NwJOjrFTQ5qx"
      }
    },
    {
      "cell_type": "code",
      "source": [
        "def checkDownloadError(link):\n",
        "  page = requests.get(link)\n",
        "  soup = BeautifulSoup(page.content, \"html.parser\")\n",
        "  error = soup.find(\"pre\", {\"class\":\"errortext\"})\n",
        "  if error:\n",
        "    error=error.string\n",
        "  else:\n",
        "    error=\"No error\"\n",
        "  return(error)"
      ],
      "metadata": {
        "id": "Q3wrL44DQ5GU"
      },
      "execution_count": null,
      "outputs": []
    },
    {
      "cell_type": "markdown",
      "source": [
        "Function to check whether the file is an XML file or faulty file"
      ],
      "metadata": {
        "id": "G4QZpr2mRDPh"
      }
    },
    {
      "cell_type": "code",
      "source": [
        "def isXML(filepath):\n",
        "  f = open(filepath, \"r\")\n",
        "  xml=False\n",
        "  if \"<?xml\" in f.readline():\n",
        "    xml=True\n",
        "  return(xml)"
      ],
      "metadata": {
        "id": "oM7QWnmTRJKw"
      },
      "execution_count": null,
      "outputs": []
    },
    {
      "cell_type": "markdown",
      "source": [
        "Function to repeatedly attempt downloading the file (if it downloads a faulty XML)"
      ],
      "metadata": {
        "id": "wA5-XPIZRMj5"
      }
    },
    {
      "cell_type": "code",
      "source": [
        "def patientDownload(link,savename):\n",
        "  success=0\n",
        "  while(success!=1):\n",
        "    try:\n",
        "      wget.download(link,savename)\n",
        "      if(isXML(savename)):\n",
        "        success=1\n",
        "      else:\n",
        "        print(\"Download failed, attempting again\")\n",
        "        os.remove(savename)\n",
        "        time.sleep(10)\n",
        "    except SocketError as e:\n",
        "      if e.errno != errno.ECONNRESET:\n",
        "          raise # Not error we are looking for\n",
        "      print(\"Download failed, attempting again\")\n",
        "      time.sleep(10)"
      ],
      "metadata": {
        "id": "9GtZ0p2qRLYa"
      },
      "execution_count": null,
      "outputs": []
    },
    {
      "cell_type": "markdown",
      "source": [
        "Function to orchestrate the XML downloads by date range and registry"
      ],
      "metadata": {
        "id": "s1OGYXE-RYYT"
      }
    },
    {
      "cell_type": "code",
      "source": [
        "def getTransactionsXML(d1,m1,y1,d2,m2,y2,treg,savepath):\n",
        "  link = \"https://ec.europa.eu/clima/ets/exportEntry.do?form=transaction&endDate=\"+d2+\"%2F\"+m2+\"%2F\"+y2+ \"&transactionStatus=4&suppTransactionType=-1&currentSortSettings=&originatingAccountType=-1&originatingAccountIdentifier=&languageCode=en&originatingAccountHolder=&destinationAccountIdentifier=&transactionID=&transactionType=-1&destinationAccountType=-1&toCompletionDate=&originatingRegistry=\" + treg + \"&destinationAccountHolder=&fromCompletionDate=&destinationRegistry=-1&startDate=\"+d1+\"%2F\"+m1+\"%2F\"+y1+\"&exportType=1&exportAction=transactionAll&exportOK=exportOK\"\n",
        "  print(link)\n",
        "  detailslink = \"https://ec.europa.eu/clima/ets/exportEntry.do?originatingAccountNumber=&suppTransactionType=-1&endDate=\"+d2+\"%2F\"+m2+\"%2F\"+y2+\"&currentSortSettings=&currentSortSettings=&originatingAccountType=-1&originatingAccountIdentifier=&originatingAccountHolder=&destinationAccountIdentifier=\"+\"&transactionID=&transferringEsdRegistryCode=&toCompletionDate=&destinationRegistry=-1&transactionStatus=4&transferringEsdYear=&destinationAccountNumber=\"+\"&languageCode=en&transactionType=-1&destinationAccountType=-1&acquiringEsdYear=&form=transactionAll&originatingRegistry=\" + treg+ \"&acquiringEsdRegistryCode=&destinationAccountHolder=\"+\"&fromCompletionDate=&startDate=\"+d1+\"%2F\"+m1+\"%2F\"+y1+\"&exportType=1&exportAction=transactionAll&exportOK=exportOK\"\n",
        "  print(detailslink)\n",
        "\n",
        "  savename = savepath + treg + \"_\" + y1 + \"-\" + m1 + \"-\" + d1 +\"_\" + y2 + \"-\" + m2 + \"-\" + d2 +\"_TransactionsBasic.xml\"\n",
        "  print(savename)\n",
        "  detailsname = savename.replace(\"TransactionsBasic\",\"DetailsAll\")\n",
        "\n",
        "  if(os.path.exists(savename)):\n",
        "    errorcheck = \"File already downloaded!\"\n",
        "  else:\n",
        "    errorcheck = checkDownloadError(link).replace(\"\\n\",\"\")\n",
        "    if(errorcheck==\"No error\"):\n",
        "      patientDownload(link,savename)\n",
        "      patientDownload(detailslink,detailsname)\n",
        "\n",
        "  return(errorcheck)\n",
        "\n",
        "# erroroutput = getTransactionsXML(\"01\",\"01\",\"2015\",\"01\",\"01\",\"2016\",\"BG\",workingdir)\n",
        "# erroroutput"
      ],
      "metadata": {
        "id": "0X4MsfYHRXdM"
      },
      "execution_count": null,
      "outputs": []
    },
    {
      "cell_type": "markdown",
      "source": [
        "Get a month of XMLs"
      ],
      "metadata": {
        "id": "7XqFNhERWihH"
      }
    },
    {
      "cell_type": "code",
      "source": [
        "def getMonth(y,m,code):\n",
        "  folderbasic = workingdir + code +\"/TransactionsBasic/\"\n",
        "  createFolder(folderbasic)\n",
        "  folderdetails = workingdir + code +\"/DetailsAll/\"\n",
        "  createFolder(folderdetails)\n",
        "\n",
        "  m1 = \"{:02d}\".format(m)\n",
        "  m2 = \"{:02d}\".format(m+1)\n",
        "  if(m==12):\n",
        "    erroroutput = getTransactionsXML(\"01\",m1,str(y),\"01\",\"01\",str(y+1),code,folderbasic)\n",
        "    #getDetailsAllXML(\"01\",m1,str(y),\"01\",\"01\",str(y+1),code,folderdetails)\n",
        "  else:\n",
        "    erroroutput = getTransactionsXML(\"01\",m1,str(y),\"01\",m2,str(y),code,folderbasic)\n",
        "    #getDetailsAllXML(\"01\",m1,str(y),\"01\",m2,str(y),code,folderdetails)\n",
        "  return(erroroutput)"
      ],
      "metadata": {
        "id": "dUWD2SVlWkwA"
      },
      "execution_count": null,
      "outputs": []
    },
    {
      "cell_type": "code",
      "source": [
        "def getLastofMonth(m,y):\n",
        "  lastofmonths = {\n",
        "  1:31,\n",
        "  2:28,\n",
        "  3:31,\n",
        "  4:30,\n",
        "  5:31,\n",
        "  6:30,\n",
        "  7:31,\n",
        "  8:31,\n",
        "  9:30,\n",
        "  10:31,\n",
        "  11:30,\n",
        "  12:31\n",
        "  }\n",
        "\n",
        "  lastday = lastofmonths[m]\n",
        "  if(m==2):\n",
        "    if(int(y)%4==0):\n",
        "      print(\"leap year!\")\n",
        "      lastday=29\n",
        "\n",
        "  return(lastday)"
      ],
      "metadata": {
        "id": "uPUxH_ODbLtg"
      },
      "execution_count": null,
      "outputs": []
    },
    {
      "cell_type": "code",
      "source": [
        "def getWeek(y,m,w,code):\n",
        "  folderbasic = workingdir + code +\"/TransactionsBasic/Weekly/\"\n",
        "  createFolder(folderbasic)\n",
        "  folderdetails = workingdir + code +\"/DetailsAll/Weekly/\"\n",
        "  createFolder(folderdetails)\n",
        "\n",
        "  y1 = str(y)\n",
        "  y2 = str(y) #starts the same\n",
        "\n",
        "  m1 = \"{:02d}\".format(m)\n",
        "  if(w==4): #If last week of month\n",
        "    if(m==12): #If last week of december\n",
        "      print(\"last week of december!\")\n",
        "      m2 = \"01\" #Next month is january\n",
        "      y2 = str(y+1) #Year is next year\n",
        "    else:\n",
        "      print(\"last week not december\")\n",
        "      m2 = \"{:02d}\".format(m+1) #Month is next month\n",
        "  else:\n",
        "    m2=m1 #Month is same month\n",
        "\n",
        "  weekbounds = {\n",
        "  1:[\"01\",\"07\"],\n",
        "  2:[\"08\",\"14\"],\n",
        "  3:[\"15\",\"21\"],\n",
        "  4:[\"22\",\"01\"],\n",
        "  }\n",
        "  d1 = weekbounds[w][0]\n",
        "  d2 = weekbounds[w][1]\n",
        "\n",
        "  weekoutput = getTransactionsXML(d1,m1,y1,d2,m2,y2, code, folderbasic)\n",
        "  #getDetailsAllXML(\"01\",m1,y1,\"07\",m1,y2, code, folderdetails)\n",
        "  return(weekoutput)\n",
        "\n",
        "#getWeek(2015,4,4,\"BG\")"
      ],
      "metadata": {
        "id": "lMM4blFLZvqG"
      },
      "execution_count": null,
      "outputs": []
    },
    {
      "cell_type": "code",
      "source": [
        "def getDay(y,m,d,code):\n",
        "  folderbasic = workingdir + code +\"/TransactionsBasic/Daily/\"\n",
        "  createFolder(folderbasic)\n",
        "  folderdetails = workingdir + code +\"/DetailsAll/Daily/\"\n",
        "  createFolder(folderdetails)\n",
        "\n",
        "  y1 = str(y)\n",
        "  y2 = y1\n",
        "  m1 = \"{:02d}\".format(m)\n",
        "  m2 = m1\n",
        "  d1 = \"{:02d}\".format(d)\n",
        "  d2 = \"{:02d}\".format(d)#+1)\n",
        "\n",
        "  # if(d==getLastofMonth(m,y)):\n",
        "  #   print(\"last of month\")\n",
        "  #   d2 = \"01\" #First of next month\n",
        "  #   if(m==12):\n",
        "  #     m2 = \"01\" #January\n",
        "  #     y2 = str(y+1) #Next year\n",
        "  #   else:\n",
        "  #     m2 = \"{:02d}\".format(m+1)\n",
        "\n",
        "  dayoutput = getTransactionsXML(d1,m1,y1,d2,m2,y2, code, folderbasic)\n",
        "  return(dayoutput)\n",
        "\n",
        "#getDay(2014,10,31,\"FR\")"
      ],
      "metadata": {
        "id": "t1ItUWiKft1R"
      },
      "execution_count": null,
      "outputs": []
    },
    {
      "cell_type": "code",
      "source": [
        "def saveHighVolumeDay(daylist):\n",
        "  highvolumedf = pd.DataFrame([daylist],columns=[\"Year\",\"Month\",\"Day\",\"Code\"])\n",
        "  if(os.path.exists(workingdir+\"/HighVolumeDays.csv\")):\n",
        "    print(\"reading file...\")\n",
        "    fullhighvolumedf = pd.read_csv(workingdir+\"/HighVolumeDays.csv\")\n",
        "    pd.concat([fullhighvolumedf,highvolumedf]).to_csv(workingdir+\"/HighVolumeDays.csv\",index=False)\n",
        "  else:\n",
        "    print(\"creating file...\")\n",
        "    highvolumedf.to_csv(workingdir+\"/HighVolumeDays.csv\",index=False)"
      ],
      "metadata": {
        "id": "KJczh_hD03Tc"
      },
      "execution_count": null,
      "outputs": []
    },
    {
      "cell_type": "markdown",
      "source": [
        "Downloading XML files by country and time frame"
      ],
      "metadata": {
        "id": "VVZq0Z8UVmdN"
      }
    },
    {
      "cell_type": "code",
      "source": [
        "workingdir = \"/gdrive/MyDrive/Brookings/XML_downloads/xml-byregistry-bydate/\"\n",
        "createFolder(workingdir)"
      ],
      "metadata": {
        "id": "IvkU6rLKSDfW"
      },
      "execution_count": null,
      "outputs": []
    },
    {
      "cell_type": "code",
      "source": [
        "registries = pd.read_csv(workingdir+'RegistryLookup.csv')\n",
        "registries\n",
        "#Could also just make registries a list of the country codes to be simpler\n",
        "#registries = []"
      ],
      "metadata": {
        "id": "M0m16o5UVp1F",
        "colab": {
          "base_uri": "https://localhost:8080/",
          "height": 423
        },
        "outputId": "b1cd0a02-75fc-47d9-8cd4-d9191df00bc8"
      },
      "execution_count": null,
      "outputs": [
        {
          "output_type": "execute_result",
          "data": {
            "text/html": [
              "\n",
              "  <div id=\"df-b849564f-dac6-4a0d-9e99-7cedab29fdbb\">\n",
              "    <div class=\"colab-df-container\">\n",
              "      <div>\n",
              "<style scoped>\n",
              "    .dataframe tbody tr th:only-of-type {\n",
              "        vertical-align: middle;\n",
              "    }\n",
              "\n",
              "    .dataframe tbody tr th {\n",
              "        vertical-align: top;\n",
              "    }\n",
              "\n",
              "    .dataframe thead th {\n",
              "        text-align: right;\n",
              "    }\n",
              "</style>\n",
              "<table border=\"1\" class=\"dataframe\">\n",
              "  <thead>\n",
              "    <tr style=\"text-align: right;\">\n",
              "      <th></th>\n",
              "      <th>Country</th>\n",
              "      <th>Code</th>\n",
              "      <th>Large</th>\n",
              "    </tr>\n",
              "  </thead>\n",
              "  <tbody>\n",
              "    <tr>\n",
              "      <th>0</th>\n",
              "      <td>Belgium</td>\n",
              "      <td>BE</td>\n",
              "      <td>0</td>\n",
              "    </tr>\n",
              "    <tr>\n",
              "      <th>1</th>\n",
              "      <td>Bulgaria</td>\n",
              "      <td>BG</td>\n",
              "      <td>0</td>\n",
              "    </tr>\n",
              "    <tr>\n",
              "      <th>2</th>\n",
              "      <td>Czech Republic</td>\n",
              "      <td>CZ</td>\n",
              "      <td>0</td>\n",
              "    </tr>\n",
              "    <tr>\n",
              "      <th>3</th>\n",
              "      <td>Czechia</td>\n",
              "      <td>CZ</td>\n",
              "      <td>0</td>\n",
              "    </tr>\n",
              "    <tr>\n",
              "      <th>4</th>\n",
              "      <td>CDM</td>\n",
              "      <td>CDM</td>\n",
              "      <td>0</td>\n",
              "    </tr>\n",
              "    <tr>\n",
              "      <th>...</th>\n",
              "      <td>...</td>\n",
              "      <td>...</td>\n",
              "      <td>...</td>\n",
              "    </tr>\n",
              "    <tr>\n",
              "      <th>73</th>\n",
              "      <td>South Korea</td>\n",
              "      <td>KR</td>\n",
              "      <td>0</td>\n",
              "    </tr>\n",
              "    <tr>\n",
              "      <th>74</th>\n",
              "      <td>Taiwan</td>\n",
              "      <td>TW</td>\n",
              "      <td>0</td>\n",
              "    </tr>\n",
              "    <tr>\n",
              "      <th>75</th>\n",
              "      <td>United States</td>\n",
              "      <td>US</td>\n",
              "      <td>0</td>\n",
              "    </tr>\n",
              "    <tr>\n",
              "      <th>76</th>\n",
              "      <td>Malta CP0</td>\n",
              "      <td>MT0</td>\n",
              "      <td>0</td>\n",
              "    </tr>\n",
              "    <tr>\n",
              "      <th>77</th>\n",
              "      <td>Cyprus CP0</td>\n",
              "      <td>CY0</td>\n",
              "      <td>0</td>\n",
              "    </tr>\n",
              "  </tbody>\n",
              "</table>\n",
              "<p>78 rows × 3 columns</p>\n",
              "</div>\n",
              "      <button class=\"colab-df-convert\" onclick=\"convertToInteractive('df-b849564f-dac6-4a0d-9e99-7cedab29fdbb')\"\n",
              "              title=\"Convert this dataframe to an interactive table.\"\n",
              "              style=\"display:none;\">\n",
              "        \n",
              "  <svg xmlns=\"http://www.w3.org/2000/svg\" height=\"24px\"viewBox=\"0 0 24 24\"\n",
              "       width=\"24px\">\n",
              "    <path d=\"M0 0h24v24H0V0z\" fill=\"none\"/>\n",
              "    <path d=\"M18.56 5.44l.94 2.06.94-2.06 2.06-.94-2.06-.94-.94-2.06-.94 2.06-2.06.94zm-11 1L8.5 8.5l.94-2.06 2.06-.94-2.06-.94L8.5 2.5l-.94 2.06-2.06.94zm10 10l.94 2.06.94-2.06 2.06-.94-2.06-.94-.94-2.06-.94 2.06-2.06.94z\"/><path d=\"M17.41 7.96l-1.37-1.37c-.4-.4-.92-.59-1.43-.59-.52 0-1.04.2-1.43.59L10.3 9.45l-7.72 7.72c-.78.78-.78 2.05 0 2.83L4 21.41c.39.39.9.59 1.41.59.51 0 1.02-.2 1.41-.59l7.78-7.78 2.81-2.81c.8-.78.8-2.07 0-2.86zM5.41 20L4 18.59l7.72-7.72 1.47 1.35L5.41 20z\"/>\n",
              "  </svg>\n",
              "      </button>\n",
              "      \n",
              "  <style>\n",
              "    .colab-df-container {\n",
              "      display:flex;\n",
              "      flex-wrap:wrap;\n",
              "      gap: 12px;\n",
              "    }\n",
              "\n",
              "    .colab-df-convert {\n",
              "      background-color: #E8F0FE;\n",
              "      border: none;\n",
              "      border-radius: 50%;\n",
              "      cursor: pointer;\n",
              "      display: none;\n",
              "      fill: #1967D2;\n",
              "      height: 32px;\n",
              "      padding: 0 0 0 0;\n",
              "      width: 32px;\n",
              "    }\n",
              "\n",
              "    .colab-df-convert:hover {\n",
              "      background-color: #E2EBFA;\n",
              "      box-shadow: 0px 1px 2px rgba(60, 64, 67, 0.3), 0px 1px 3px 1px rgba(60, 64, 67, 0.15);\n",
              "      fill: #174EA6;\n",
              "    }\n",
              "\n",
              "    [theme=dark] .colab-df-convert {\n",
              "      background-color: #3B4455;\n",
              "      fill: #D2E3FC;\n",
              "    }\n",
              "\n",
              "    [theme=dark] .colab-df-convert:hover {\n",
              "      background-color: #434B5C;\n",
              "      box-shadow: 0px 1px 3px 1px rgba(0, 0, 0, 0.15);\n",
              "      filter: drop-shadow(0px 1px 2px rgba(0, 0, 0, 0.3));\n",
              "      fill: #FFFFFF;\n",
              "    }\n",
              "  </style>\n",
              "\n",
              "      <script>\n",
              "        const buttonEl =\n",
              "          document.querySelector('#df-b849564f-dac6-4a0d-9e99-7cedab29fdbb button.colab-df-convert');\n",
              "        buttonEl.style.display =\n",
              "          google.colab.kernel.accessAllowed ? 'block' : 'none';\n",
              "\n",
              "        async function convertToInteractive(key) {\n",
              "          const element = document.querySelector('#df-b849564f-dac6-4a0d-9e99-7cedab29fdbb');\n",
              "          const dataTable =\n",
              "            await google.colab.kernel.invokeFunction('convertToInteractive',\n",
              "                                                     [key], {});\n",
              "          if (!dataTable) return;\n",
              "\n",
              "          const docLinkHtml = 'Like what you see? Visit the ' +\n",
              "            '<a target=\"_blank\" href=https://colab.research.google.com/notebooks/data_table.ipynb>data table notebook</a>'\n",
              "            + ' to learn more about interactive tables.';\n",
              "          element.innerHTML = '';\n",
              "          dataTable['output_type'] = 'display_data';\n",
              "          await google.colab.output.renderOutput(dataTable, element);\n",
              "          const docLink = document.createElement('div');\n",
              "          docLink.innerHTML = docLinkHtml;\n",
              "          element.appendChild(docLink);\n",
              "        }\n",
              "      </script>\n",
              "    </div>\n",
              "  </div>\n",
              "  "
            ],
            "text/plain": [
              "           Country Code  Large\n",
              "0          Belgium   BE      0\n",
              "1         Bulgaria   BG      0\n",
              "2   Czech Republic   CZ      0\n",
              "3          Czechia   CZ      0\n",
              "4              CDM  CDM      0\n",
              "..             ...  ...    ...\n",
              "73     South Korea   KR      0\n",
              "74          Taiwan   TW      0\n",
              "75   United States   US      0\n",
              "76       Malta CP0  MT0      0\n",
              "77      Cyprus CP0  CY0      0\n",
              "\n",
              "[78 rows x 3 columns]"
            ]
          },
          "metadata": {},
          "execution_count": 57
        }
      ]
    },
    {
      "cell_type": "markdown",
      "source": [
        "*Should update to have a yearly, monthly, weekly, daily subfolders, or have it all mixed in the general registry folder. Right now I have yearly and monthly going to the main folder and then subfolders for weekly and daily"
      ],
      "metadata": {
        "id": "VMcQZiZ7yeW3"
      }
    },
    {
      "cell_type": "code",
      "source": [
        "for i in range(0,len(registries)):\n",
        "  registry = registries.loc[i][0]\n",
        "  code = registries.loc[i][1]\n",
        "  large = registries.loc[i][2]\n",
        "\n",
        "  folderbasic = workingdir +code+\"/TransactionsBasic/\"\n",
        "  createFolder(folderbasic)\n",
        "  folderdetails = workingdir +code+\"/DetailsAll/\"\n",
        "  createFolder(folderdetails)\n",
        "\n",
        "  for year in range(2005,2019):\n",
        "    output = getTransactionsXML(\"01\",\"01\",str(year),\"01\",\"01\",str(year+1), code,folderbasic)\n",
        "    print(output)\n",
        "    if(\"exceeds the predefined limit\" in output):\n",
        "      print(\"Attempting monthly...\")\n",
        "\n",
        "      for month in range(1,13):                   #Attempt monthly, 1,13\n",
        "        output = getMonth(year,month,code)\n",
        "        print(output)\n",
        "        if(\"exceeds the predefined limit\" in output):\n",
        "          print(\"Attempting weekly...\")\n",
        "\n",
        "          for week in range(1,5):                 #Attempt weekly\n",
        "            output = getWeek(year,month,week,code)\n",
        "            print(output)\n",
        "            if(\"exceeds the predefined limit\" in output):\n",
        "              wkstart = (7*(week-1)) + 1\n",
        "              wkend = (7*week)\n",
        "              lastday = getLastofMonth(month,year)\n",
        "              if(week==4):\n",
        "                wkend = lastday\n",
        "              for day in range(wkstart,wkend+1):      #Attempt daily\n",
        "                output = getDay(year,month,day,code)\n",
        "                print(output)\n",
        "                if(\"exceeds the predefined limit\" in output):\n",
        "                  print(\"High volume day!\")\n",
        "                  saveHighVolumeDay([year,month,day,code])"
      ],
      "metadata": {
        "id": "llyxTKcvVj7x"
      },
      "execution_count": null,
      "outputs": []
    }
  ]
}